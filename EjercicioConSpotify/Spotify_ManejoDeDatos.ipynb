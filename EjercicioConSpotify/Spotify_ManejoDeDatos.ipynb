{
 "cells": [
  {
   "cell_type": "markdown",
   "metadata": {},
   "source": [
    "# Predictor de genero musical\n",
    "Explorando la información que proporciona Spotify mediante la API me di cuenta de que no incluía el género de la canción, esto me llamó poderosamente la atención ya proporcionar otros datos tan abstractos como la “bailabilidad”. Sin embargo, es entendible que no proporcione esta información ya que es difícil de definir, hay canciones que se encuentran influenciadas por distintos géneros y eso hace complicado una determinación precisa. Además, mucha gente no distingue géneros, he estado en muchas conversaciones donde la confusión entre cumbia y cuarteto o entre trap y rap se da.\n",
    "\n",
    "Motivado con esta idea encare este proyecto, vamos a ver si es posible distinguir entre distintos géneros utilizando la información proporcionada por la API de spotify y haciendo un poco de scraping de datos.\n",
    "\n",
    "El proyecto se divide en 3 fases, \n",
    "\n",
    "\n",
    "## Paso 1: Recopilación de Datos\n",
    "    Buscando crear un dataset con valores devueltos de la API de Spotify, etiquetando por artistas conocidos y que se dedican exclusivamente a un género. Por ejemplo \"La Mona Jimenez\" es un referente del cuarteto y es el único género al cual se dedica. Y además, mediante web scraping se obtuvieron las letras de las canciones a las cuales se les aplicó un sentiment analysis para determinar el promedio de positividad de cada una de sus frases, para así obtener un nuevo feature.\n",
    "    Por su puesto, con toda esta información en bruto se prepararon los datos, limpiando algunos registros que habían quedado nulos, entre otras acciones, para un correcto análisis y visualización de datos.\n",
    "\n",
    "## Paso 2: Visualizacion de datos\n",
    "    En esta fase, se realizó un análisis exploratorio exhaustivo de los datos recopilados, utilizando diversas técnicas de visualización para comprender mejor las características y relaciones entre las variables. Se generó un heatmap para visualizar las correlaciones entre las diferentes features, lo que permitió identificar patrones y dependencias significativas. Se crearon histogramas para cada una de las características, proporcionando una visión clara de la distribución de los datos en cada variable. Además, se utilizaron gráficos de cajas (box plots) para detectar outliers y comprender la dispersión de los datos en cada categoría. Finalmente, se elaboró un pairplot que muestra la relación entre todas las features, ofreciendo una perspectiva global de cómo interactúan las variables entre sí y cómo se agrupan los diferentes géneros musicales en función de estas características. Estas visualizaciones fueron fundamentales para guiar las decisiones en la etapa de modelado y para obtener insights valiosos sobre las particularidades de cada género musical.\n",
    "## Paso 3: Entrenamiento del modelo de clasificación\n",
    "    Se entrenó un modelo de regresión logística inicialmente para clasificar entre los datos obtenidos. Además se obtuvo la correspondiente matriz de confusión, se realizó la correspondiente optimización de hiperparametros y se graficó la curva ROE que permite observar el desempeño de este modelo.\n",
    "    Por último, se evaluaron otros modelos de clasificación (como random forest, máquinas vectoriales, KNN, MLP) para observar el desempeño de otros modelos y compararlos. Graficando el desempeño de cada uno en un conjunto de gráficos de dos dimensiones logrado gracias a una reducción de la dimensionalidad con PCA\n",
    "\n",
    " \n"
   ]
  },
  {
   "cell_type": "markdown",
   "metadata": {},
   "source": [
    "# Creación del dataset:\n",
    "Recopilación de datos:\n",
    "    Inicialmente se utiliza la API de Spotify para recopilar datos sobre las características de las canciones.\n",
    "\n",
    "Pero primero, se importan las librerías que se utilizaran en todo el proyecto.\n",
    "Además, como se va a trabajar con la api de spotify se deben cargar las credenciales para posteriormente realizar las requests correspondientes. Las credenciales las paso por el archivo \"config.ini\" para que no queden definidas en el notebook."
   ]
  },
  {
   "cell_type": "code",
   "execution_count": 5,
   "metadata": {},
   "outputs": [],
   "source": [
    "import spotipy\n",
    "from spotipy.oauth2 import SpotifyClientCredentials\n",
    "import pandas as pd\n",
    "import seaborn as sns\n",
    "import matplotlib.pyplot as plt\n",
    "import matplotlib.ticker as ticker\n",
    "from sklearn.linear_model import LinearRegression\n",
    "from sklearn.preprocessing import MinMaxScaler\n",
    "from sklearn.metrics import confusion_matrix\n",
    "from sklearn.linear_model import LogisticRegression\n",
    "from sklearn.model_selection import train_test_split\n",
    "import numpy as np\n",
    "from numpy.random import shuffle \n",
    "from sklearn.model_selection import StratifiedKFold\n",
    "from sklearn.metrics import roc_curve\n",
    "from sklearn.metrics import roc_auc_score\n",
    "from sklearn.model_selection import train_test_split\n",
    "from sentiment_analysis_spanish import sentiment_analysis # Supervised Machine Learning Based Aproach\n",
    "import re\n",
    "import configparser\n",
    "\n",
    "config = configparser.ConfigParser()\n",
    "config.read('config.ini')\n",
    "\n",
    "# Spotify API credentials\n",
    "client_id = '3fc2f3c071d8480b96aa379242a07502'#config.get('spotify','client_id')\n",
    "client_secret = 'b838c1a11677441eb4a633bda27b9873'#config.get('spotify','client_secret')\n",
    "\n",
    "# Spotify API init\n",
    "client_credentials_manager = SpotifyClientCredentials(client_id=client_id, client_secret=client_secret)\n",
    "sp = spotipy.Spotify(client_credentials_manager=client_credentials_manager)"
   ]
  },
  {
   "cell_type": "markdown",
   "metadata": {},
   "source": [
    " Ahora, defino algunas funciones para hacer estas request de manera más automatizada. Cada una tiene sus respectivos comentarios de como funciona pero a groso modo el método \"get_artist_info\" retorna un diccionario con el ID del artista, de sus álbumes, géneros y el id de sus canciones. Con las ids de las canciones vamos a poder hacer, mediante \"get_track_features\", las request de la información de cada canción para la elaboración de este dataframe."
   ]
  },
  {
   "cell_type": "code",
   "execution_count": null,
   "metadata": {},
   "outputs": [],
   "source": [
    "def get_artist_info(artist_name):\n",
    "    \"\"\"\n",
    "    This function takes an artist name as input and returns a dictionary containing the artist's ID and genre (if available).\n",
    "\n",
    "    Args:\n",
    "        artist_name (str): The name of the artist to search for.\n",
    "\n",
    "    Returns:\n",
    "        dict: A dictionary containing the artist's ID and genre (or None if not found).\n",
    "    \"\"\"\n",
    "    try:\n",
    "        search_results = sp.search(q=artist_name, type='artist')\n",
    "        artists = search_results['artists']['items']\n",
    "\n",
    "        if artists:\n",
    "            artist_info = artists[0]  \n",
    "            artist_id = artist_info['id']\n",
    "            genres = artist_info.get('genres', [])  \n",
    "            albums_results = sp.artist_albums(artist_id)\n",
    "            album_ids = [album['id'] for album in albums_results['items']]\n",
    "\n",
    "            album_tracks = {}\n",
    "            total_tracks = []  \n",
    "\n",
    "            # Loop through each album ID\n",
    "            for album_id in album_ids:\n",
    "                # Get album tracks (limit to 50 tracks per request)\n",
    "                tracks_results = sp.album_tracks(album_id, limit=50)\n",
    "                tracks = tracks_results['items']\n",
    "\n",
    "                while tracks_results['next']:\n",
    "                    tracks_results = sp.next(tracks_results)\n",
    "                    tracks.extend(tracks_results['items'])\n",
    "                    \n",
    "                album_tracks[album_id] = [track['id'] for track in tracks]\n",
    "                total_tracks.extend(album_tracks[album_id])\n",
    "\n",
    "            return {\n",
    "                'artist_id': artist_id,\n",
    "                'genres': genres,\n",
    "                'album_ids': album_ids,\n",
    "                'album_tracks': album_tracks,\n",
    "                'total_tracks': total_tracks\n",
    "            }\n",
    "    \n",
    "    except:\n",
    "        print(f\"Error al hacer la solicitud de info de artista en la API de Spotify\")\n",
    "        return None\n",
    "\n",
    "print(get_artist_info(\"babasonicos\")) # A modo de ejemplo imprimo el return de Babass"
   ]
  },
  {
   "cell_type": "code",
   "execution_count": 62,
   "metadata": {},
   "outputs": [],
   "source": [
    "def get_track_features(track_id):\n",
    "    \"\"\"\n",
    "    This function takes track id as input and returns a dictionary with track info.\n",
    "\n",
    "    Args:\n",
    "        track_id (str): The ID of the track search for.\n",
    "\n",
    "    Returns:\n",
    "        dict: A dictionary containing the features and attributes of the track.\n",
    "    \"\"\"\n",
    "    try:\n",
    "        track_info = sp.track(track_id)\n",
    "        features = sp.audio_features(track_id)[0]\n",
    "    \n",
    "        return {\n",
    "            'track_id': track_info['id'],\n",
    "            'track_name': track_info['name'],\n",
    "            'artist_name': track_info['artists'][0]['name'],\n",
    "            'popularity': track_info['popularity'],\n",
    "            'danceability': features['danceability'],\n",
    "            'energy': features['energy'],\n",
    "            'key': features['key'],\n",
    "            'loudness': features['loudness'],\n",
    "            'mode': features['mode'],\n",
    "            'speechiness': features['speechiness'],\n",
    "            'acousticness': features['acousticness'],\n",
    "            'instrumentalness': features['instrumentalness'],\n",
    "            'liveness': features['liveness'],\n",
    "            'valence': features['valence'],\n",
    "            'tempo': features['tempo'],\n",
    "            'duration_seg' : features['duration_ms']/1000\n",
    "        }\n",
    "    except:\n",
    "        print(f\"Error when requesting track information in Spotify API\")\n",
    "        return None\n"
   ]
  },
  {
   "cell_type": "code",
   "execution_count": null,
   "metadata": {},
   "outputs": [],
   "source": [
    "\n",
    "def create_dataframe(artist_names):\n",
    "    \"\"\"\n",
    "    This function takes a list of artist names and returns a DataFrame containing combined track features for all artists.\n",
    "\n",
    "    Args:\n",
    "        artist_names (list): A list containing names of artists to search for.\n",
    "\n",
    "    Returns:\n",
    "        DataFrame: A DataFrame containing combined track features.\n",
    "    \"\"\"\n",
    "\n",
    "    # Initialize an empty DataFrame to store combined results\n",
    "    df = pd.DataFrame()\n",
    "\n",
    "    # Loop through each artist name\n",
    "    for artist_name in artist_names:\n",
    "        artist_data = get_artist_info(artist_name)  # Get artist information\n",
    "\n",
    "        # Extract track IDs and features\n",
    "        tracks_data = [get_track_features(track_id) for track_id in artist_data['total_tracks']]\n",
    "\n",
    "        # Create a temporary DataFrame for this artist's tracks\n",
    "        artist_df = pd.DataFrame(tracks_data)\n",
    "\n",
    "        # # Add a 'genre' column and fill with the first genre (assuming single genre)\n",
    "        # artist_df['genre'] = 0\n",
    "        # artist_df['genre'].fillna(artist_data['genres'][0], inplace=True)  # Assuming first artist's genre\n",
    "\n",
    "        # Concatenate the artist's DataFrame to the combined DataFrame\n",
    "        df = pd.concat([df, artist_df], ignore_index=True)  # Avoid duplicate indices\n",
    "\n",
    "        #To delete the infiltrators artist\n",
    "        # unwanted_artist = df[~df[\"artist_name\"].isin(artist_names)].index\n",
    "        # df.drop(unwanted_artist, inplace=True)\n",
    "\n",
    "    return df\n",
    "\n",
    "# Call the function after retrieving artist \n",
    "#\"Trueno\",\"Airbag\",\"Duki\",\"Callejeros\",\"Acru\",\"Ciro y los Persas\",\"YSY A\",\"Frescolate\"\n",
    "#\"La Mona Jimenez\",\"Damas Gratis\",\"Nestor en Bloque\",\"Nene malo\",\"Los Palmeras\",\"Ulises Bueno\",\"Luck Ra\",\"la K'onga\",\"\"\n",
    "artist_names = [\"Los Pibes Chorros\"]\n",
    "df = create_dataframe(artist_names)\n"
   ]
  },
  {
   "cell_type": "code",
   "execution_count": null,
   "metadata": {},
   "outputs": [],
   "source": [
    "df['artist_name'].value_counts()"
   ]
  },
  {
   "cell_type": "code",
   "execution_count": null,
   "metadata": {},
   "outputs": [],
   "source": [
    "unwanted_artist = df[~df[\"artist_name\"].isin(artist_names)].index\n",
    "df.drop(unwanted_artist, inplace=True)\n",
    "\n",
    "df['artist_name'].value_counts()"
   ]
  },
  {
   "cell_type": "markdown",
   "metadata": {},
   "source": [
    "Como los artistas están siendo elegidos por mi, teniendo en cuenta lo que considero artistas representantes específicamente de su género, designó el tag de género de esta forma. También se puede hacer de manera automática con el género de cada artista que nos devuelve la API, pero en múltiples casos este valor no estaba bien designado o era nulo, por eso decidí hacerlo de manera manual. "
   ]
  },
  {
   "cell_type": "code",
   "execution_count": null,
   "metadata": {},
   "outputs": [],
   "source": [
    "# Genre. 0 = Cuarteto ; 1 = Cumbia\n",
    "df['genre'] = 1\n",
    "# indice =  df['artist_name'] == artist_names  \n",
    "# df.loc[indice, 'genre'] = 1\n",
    "\n",
    "df['genre'].value_counts()"
   ]
  },
  {
   "cell_type": "markdown",
   "metadata": {},
   "source": [
    "Ahora solo falta juntar esta nueva informacion con la info de otros artistas ya analisados, para ello guardo los valores en 'data.csv'"
   ]
  },
  {
   "cell_type": "code",
   "execution_count": null,
   "metadata": {},
   "outputs": [],
   "source": [
    "df_old = pd.read_csv('data.csv')\n",
    "# Add the new artist into the original DataFrame\n",
    "df_new = pd.concat([df_old, df], ignore_index=True)\n",
    "\n",
    "# Save the DataFrame into 'data.csv'\n",
    "df_new.to_csv('data.csv', index=False)\n"
   ]
  },
  {
   "cell_type": "markdown",
   "metadata": {},
   "source": [
    "# Nueva Feature\n",
    "\n",
    "En este punto ya se creó el dataset, se guardó artista por artista en el .csv. Pero resultaría interesante agregar una entrada más, que hable un poco de la letra de estas canciones. Ya que al fin y al cabo las features obtenidas de spotify habla en general de la música pero no del contenido de la letra en sí mismo.\n",
    "\n",
    "Para esto se realizará un análisis sentimental de cada letra, lo primero es leer el dataset y quiero ver que los registros estén balanceados.\n"
   ]
  },
  {
   "cell_type": "code",
   "execution_count": 6,
   "metadata": {},
   "outputs": [
    {
     "data": {
      "text/plain": [
       "genre\n",
       "0    1041\n",
       "1     904\n",
       "Name: count, dtype: int64"
      ]
     },
     "execution_count": 6,
     "metadata": {},
     "output_type": "execute_result"
    }
   ],
   "source": [
    "df_spotify = pd.read_csv('data.csv')\n",
    "df_spotify['genre'].value_counts()\n"
   ]
  },
  {
   "cell_type": "markdown",
   "metadata": {},
   "source": [
    "Lo primero que voy a necesitar es la letra de cada canción, spotify no me provee de esta info asi que ya no voy a poder recurrir a la API. \n",
    "\n",
    "No queda otra que aventurarse en las oscuras artes del scraping, la página letras.com parece ser ideal para esto.\n",
    "\n",
    "Utilizando BeautifulSoup e inspeccionando un poco el html de la página logró crear la función \"obtener_letra\" que me devuelve la letra de cada una de las canciones."
   ]
  },
  {
   "cell_type": "code",
   "execution_count": 63,
   "metadata": {},
   "outputs": [
    {
     "name": "stdout",
     "output_type": "stream",
     "text": [
      "Letra de sos-boton de damas-gratis:\n",
      "¡Sufre, por hacerte el policia!¡No!, no lo puedo creerVos ya no sos el vagoYa no sos el atorranteAl que los pibes lo llamaban el picanteAhora te llaman botonYa no estásCon tus amigosY en la esquina te la dabasDe polenta, de malevo y de matonY solo eras un botonY solo eras un botonVos sos un botonNunca vi a un policiaTan amargo como vosVos sos un botonNunca vi a un policiaTan amargo como vos¡Damas gratis, wipi!Para vos, CarlitosCuando ibas a la canchaParabas con la hinchadaY tomabas vino blancoY ahora patrullas la ciudadSi vas a la cancha vas con celularY a tus amigosAndas arrestandoSos el policia del comandoVos sos un botonNunca vi a un policiaTan amargo como vosVos sos un botonNunca vi a un policiaTan amargo como vosVos sos un botonNunca vi a un policiaTan amargo como vosVos sos un botonNunca vi a un policiaTan amargo como vos\n"
     ]
    }
   ],
   "source": [
    "import requests\n",
    "from bs4 import BeautifulSoup\n",
    "\n",
    "def obtener_letra(artista, titulo):\n",
    "  \"\"\"\n",
    "  Función para obtener la letra de una canción en Letras.com.\n",
    "\n",
    "  Args:\n",
    "    artista: Nombre del artista.\n",
    "    titulo: Título de la canción.\n",
    "\n",
    "  Returns:\n",
    "    La letra de la canción como string, o None si no se encuentra.\n",
    "  \"\"\"\n",
    "  artista = artista.lower().replace(\" \",\"-\")\n",
    "  # titulo = re.sub(r\"\\s*\\(.*?\\)\\s*\", \"\", titulo)\n",
    "  titulo = re.sub(r\"[\\(\\[].*?[\\)\\]]\", \"\", titulo)\n",
    "  titulo = re.sub(r\"/.*\", \"\", titulo)\n",
    "  titulo = titulo.lower().replace(\" \",\"-\")\n",
    "\n",
    "\n",
    "  url = f\"https://www.letras.com/{artista}/{titulo}\"\n",
    "  response = requests.get(url)\n",
    "\n",
    "  if response.status_code == 200:\n",
    "    soup = BeautifulSoup(response.content, 'html.parser')\n",
    "    letra_div = soup.find('div', class_ = \"lyric-original font --lyrics --size18\")\n",
    "\n",
    "    if letra_div:\n",
    "      return letra_div.text.strip()\n",
    "    else:\n",
    "      return None\n",
    "  else:\n",
    "    print(f\"Error al acceder a la URL: {url}\")\n",
    "    return None\n",
    "\n",
    "# Ejemplo de uso\n",
    "artista = \"damas-gratis\"\n",
    "titulo = \"sos-boton\"\n",
    "\n",
    "letra = obtener_letra(artista, titulo)\n",
    "\n",
    "if letra:\n",
    "  print(f\"Letra de {titulo} de {artista}:\\n{letra}\")\n",
    "else:\n",
    "  print(f\"No se encontró la letra de {titulo} de {artista}\")"
   ]
  },
  {
   "cell_type": "markdown",
   "metadata": {},
   "source": [
    "La letra que nos provee letras.com tiene algunos problemas de formato, para esto creo el metodo \"agregar_espacios\" asi la acomodamos un poco"
   ]
  },
  {
   "cell_type": "code",
   "execution_count": null,
   "metadata": {},
   "outputs": [],
   "source": [
    "def agregar_espacios(texto):\n",
    "  \"\"\"\n",
    "  Función para agregar espacios antes de mayúsculas en un texto usando expresiones regulares.\n",
    "\n",
    "  Args:\n",
    "    texto: El texto original.\n",
    "\n",
    "  Returns:\n",
    "    El texto con espacios agregados antes de mayúsculas.\n",
    "  \"\"\"\n",
    "  if texto:\n",
    "    return re.sub(r\"([a-z])([A-Z])\", r\"\\1. \\2\", texto)\n",
    "  else:\n",
    "    return None"
   ]
  },
  {
   "cell_type": "markdown",
   "metadata": {},
   "source": [
    "El metodo \"sentimental_coeficient\" implementa el objeto sentiment_analysis y obtiene el valor de \"positividad\" de cada una de las frases de la cancion para luego promediarlas y lograr un valor general de positividad del track."
   ]
  },
  {
   "cell_type": "code",
   "execution_count": null,
   "metadata": {},
   "outputs": [],
   "source": [
    "def sentimental_coeficient(letra):\n",
    "    \"\"\"\n",
    "    Funcion que retorna el valor de sentimiento obtenido del promedio en las frases de la \n",
    "    Args: \n",
    "        letra: Letra de la cansion\n",
    "\n",
    "    Returns:\n",
    "        La media de los sentimientos donde 1 es alegría y 0 tristeza\n",
    "    \"\"\"\n",
    "    if letra:\n",
    "        letra = agregar_espacios(letra)\n",
    "        sentimental = sentiment_analysis.SentimentAnalysisSpanish() # Inicializamos el objeto\n",
    "        sentimental_coef = np.array([sentimental.sentiment(f) for f in letra.split('.')])\n",
    "        sentimental_mean = np.mean(sentimental_coef) \n",
    "        if sentimental_mean:\n",
    "            return sentimental_mean\n",
    "        else:\n",
    "            return 0\n",
    "    else :\n",
    "        return 0"
   ]
  },
  {
   "cell_type": "markdown",
   "metadata": {},
   "source": [
    "Solo falta recorrer todas las canciones en el dataset y añadir a cada registro la \"positividad\""
   ]
  },
  {
   "cell_type": "code",
   "execution_count": null,
   "metadata": {},
   "outputs": [],
   "source": [
    "for index, row in df_spotify.iterrows():\n",
    "    if df_spotify[\"positividad\"][index] == 0:\n",
    "        print(row[\"track_name\"])\n",
    "        track_name = re.split(r\" - \",row[\"track_name\"])[0]\n",
    "        print(track_name)\n",
    "        if \"!\" in track_name:\n",
    "            df_spotify.drop(index, inplace = True)\n",
    "        else:    \n",
    "            letra = obtener_letra(row[\"artist_name\"],track_name)\n",
    "            letra = agregar_espacios(letra)\n",
    "            print(index)\n",
    "            df_spotify.loc[index,\"positividad\"] = sentimental_coeficient(letra)\n",
    "            print(df_spotify[\"positividad\"][index])"
   ]
  }
 ],
 "metadata": {
  "kernelspec": {
   "display_name": "Python 3",
   "language": "python",
   "name": "python3"
  },
  "language_info": {
   "codemirror_mode": {
    "name": "ipython",
    "version": 3
   },
   "file_extension": ".py",
   "mimetype": "text/x-python",
   "name": "python",
   "nbconvert_exporter": "python",
   "pygments_lexer": "ipython3",
   "version": "3.11.9"
  }
 },
 "nbformat": 4,
 "nbformat_minor": 2
}
