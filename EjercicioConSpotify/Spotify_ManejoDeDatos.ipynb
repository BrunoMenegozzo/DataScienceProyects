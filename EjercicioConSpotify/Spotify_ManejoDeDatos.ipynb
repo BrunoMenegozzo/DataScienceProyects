{
 "cells": [
  {
   "cell_type": "markdown",
   "metadata": {},
   "source": [
    "# Creación del dataset:\n",
    "Recopilación de datos:\n",
    "    Inicialmente se utiliza la API de Spotify para recopilar datos sobre las características de las canciones.\n",
    "\n",
    "Pero primero, se importan las librerías que se utilizaran en todo el proyecto.\n",
    "Además, como se va a trabajar con la api de spotify se deben cargar las credenciales para posteriormente realizar las requests correspondientes. Las credenciales las paso por el archivo \"config.ini\" para que no queden definidas en el notebook."
   ]
  },
  {
   "cell_type": "code",
   "execution_count": 1,
   "metadata": {},
   "outputs": [],
   "source": [
    "import spotipy\n",
    "from spotipy.oauth2 import SpotifyClientCredentials\n",
    "import pandas as pd\n",
    "import seaborn as sns\n",
    "import matplotlib.pyplot as plt\n",
    "import matplotlib.ticker as ticker\n",
    "from sklearn.linear_model import LinearRegression\n",
    "from sklearn.preprocessing import MinMaxScaler\n",
    "from sklearn.metrics import confusion_matrix\n",
    "from sklearn.linear_model import LogisticRegression\n",
    "from sklearn.model_selection import train_test_split\n",
    "import numpy as np\n",
    "from numpy.random import shuffle \n",
    "from sklearn.model_selection import StratifiedKFold\n",
    "from sklearn.metrics import roc_curve\n",
    "from sklearn.metrics import roc_auc_score\n",
    "from sklearn.model_selection import train_test_split\n",
    "from sentiment_analysis_spanish import sentiment_analysis # Supervised Machine Learning Based Aproach\n",
    "import re\n",
    "import configparser\n",
    "\n",
    "config = configparser.ConfigParser()\n",
    "config.read('config.ini')\n",
    "\n",
    "# Spotify API credentials\n",
    "client_id = config.get('spotify','client_id')\n",
    "client_secret = config.get('spotify','client_secret')\n",
    "\n",
    "# Spotify API init\n",
    "client_credentials_manager = SpotifyClientCredentials(client_id=client_id, client_secret=client_secret)\n",
    "sp = spotipy.Spotify(client_credentials_manager=client_credentials_manager)"
   ]
  },
  {
   "cell_type": "markdown",
   "metadata": {},
   "source": [
    " Ahora, defino algunas funciones para hacer estas request de manera más automatizada. Cada una tiene sus respectivos comentarios de como funciona pero a groso modo el método \"get_artist_info\" retorna un diccionario con el ID del artista, de sus álbumes, géneros y el id de sus canciones. Con las ids de las canciones vamos a poder hacer, mediante \"get_track_features\", las request de la información de cada canción para la elaboración de este dataframe."
   ]
  },
  {
   "cell_type": "code",
   "execution_count": 2,
   "metadata": {},
   "outputs": [
    {
     "name": "stdout",
     "output_type": "stream",
     "text": [
      "{'artist_id': '2F9pvj94b52wGKs0OqiNi2', 'genres': ['argentine rock', 'electronica argentina', 'latin alternative', 'latin rock', 'pop electronico', 'rock en espanol'], 'album_ids': ['7g8RJEDSBDwG7Xz3s0ncq1', '5oLaRXGevqs8RYxXhYe9PG', '2vHwdJI0FKurPPmHjXj24Z', '5c6b4NSsJHroOvLFUNBE3t', '7AhXiUL10VFtwh8NY0sRQV', '37T4qeUVTpx7Ps3HhSKdKc', '6eWrCdzfRUvNMDYWGHIExi', '1x93LZe2PKKrgePH2GZjCP', '674AkakAvjA3EnJayTQ4Qb', '0h9swlJeoJLVHmuxBoCi62', '1u9PRTF6cfvCzZBYcXv6uV', '0DUCdIMPrlfPFPPKsNyzx3', '1IXP3t3bPcgiSNSVKWu6Du', '4oRMvqERfDZZGf56WF5v2q', '15eHesyZJpvolTrSUJgoDX', '7FYLw9fTOiYnJFbFk2Mntn', '1EKYYcWJkAYQ78GNYhYrJv', '7EQlXvy03jQfNjy3Ff8jGb', '2VMsGuuC4CDcyZ8qp7njWh', '5ZfZ0PWqGTRHmOxkIkQaLE'], 'album_tracks': {'7g8RJEDSBDwG7Xz3s0ncq1': ['7kb9NS6gItiOUc0ScsbnBP', '60Gx4M8cwqCV2TtAKop2iY', '5rp2y5UbMOvc7S3MCKrjI4', '5MULRnOqlPreeiOufzx7Kf', '0p5aYD8fu2jvDtawm2inOA', '3Rk611iAyxHtCWLVVgxs6b', '6uYefVt4V9eSEyuDFv2Cu9', '518GqXyTNyUxpNRPorJba6', '0UqraDB2ofMR56fDAbZRVJ', '6txmX4Wnc1FLnH13LszrY6', '761YGXxcCdDip2IZylWDnq', '38q3yJLq3igUMu85LE0pQU', '34u0T0mr5tTAOG8olordHY', '4DWsnZ2AdlhGVZYLB5cmH1'], '5oLaRXGevqs8RYxXhYe9PG': ['0AK6oKtH1xi0y66ZkN6OGT', '29FRFwLHf0Ec9q6I9K0jLZ', '4Qmqux7KiBuz31IcJzHt05', '5dLV8GMKd44Y24Vri6qLno', '7nY0VWOxHHhKIp8YhPfH5c', '6Z1ljEyzvcjq3WcGrKXBIB', '4DC4XNDhKwaRJJyhQ9CRaS', '76fRqikkTZMAVsr7OVPZxl', '0hWL7RaBdVEXjd2RYVSJPp', '3ig0xkpP1fVJYr9JZW8lwf', '1XhnMCVyuXwHOaV6n6gLts'], '2vHwdJI0FKurPPmHjXj24Z': ['0a5ni86faQ2p8uZh1vvnvx', '53UkQ1uvwBXgF3f0Ttd0J7', '2qEdgls42l1JO1Ysawj4X8', '1fXc4sBktxy3N5JIvClZ4l', '2w4RdnyrpxJA0xvVsZHInx', '4Taxs5dUrRaGpPkVO6OJ9v', '0KqEEVlfDJn9NWJYjhyslt', '0nTx6UXoC7j483ex1CNujR', '2NPfSoZEfn9P2oyPu0bPja', '3XwcTaXBtDtkgZPj3mqne0', '5NJkAHlxAXlPbP1lRu3PwF', '3GuYRNzX3sBosPPe47sER0', '4JVexr1QbpLN3PaV8wEqWN', '4BmRZOPEDUZCVv6eKDSUP4', '27oIVZRxQq5TRl7U9vBQAc', '5hhMFiuXi29EPNn2Jkzdot', '7noFHAU3amW0XYiDCWJDFd', '5JGPFrdbM8zrMqxheOKAwI', '4oImiDHlOTOVD4dnnsNpCZ'], '5c6b4NSsJHroOvLFUNBE3t': ['4PxOR5geaJtZFe4Q3I115t', '6M6aCePRkHqmQsUGa6BegN', '1bMxpgwLvaqYOuTZnXBfEV', '10P4XH3RgfNciWKxycGZLK', '0DiIIEstbNXB8aw8oUAdfr', '3jT0zBtM0QU0KvG3SVRvrf', '5vZnzndimesby1tYdDUKsM', '7cZXR7MmUEtIE5FqNV9Cl2', '59XAQApPDhjfQJo3OCfX8M', '3kUYO8UMNxuOCPuERmQYKa'], '7AhXiUL10VFtwh8NY0sRQV': ['31zBepK85TuA9odzKt1j4F', '4cVAoBkWWpGkIkoHkjqi0L', '6LJOsSpX7uiRYSsz4jdIbj', '5Rztx8xya1tLEY4Aeg3DQy', '48VGs9SDB3S7posmm5dCeg', '36zR98lUHR5PLYDdu7p4zG', '3wEBkpoWes30DtGU26TOFM', '1PXwZ4RsSnyNM2YNLaBPcx', '34JTm2YprK202b4EdaOZ6d', '2EPcKcUIVc3Z2jELycSw6h', '0rxHqdKBBg1WlTolPn8wJ5', '3rBpUoOCLi8CPxEzcgOxOG', '0SeFwOJ284v8FpX1Prb4lC', '0Pf4A0UQaOzyZ9ywxgnY7l', '0RYzw5M3RlxuLBeJQT2v0P', '1HJLRsyLR7B9XjcSLM4OTy', '6kcBnMotnpg669Z1SvJmgt', '6GtQR1iH4iAWy9JJksSraZ', '33NxmIaZFKrap8tTF7WbGI', '4EnNACFTaDCyHbYDR56zRJ', '1Ugd1d628BYfZ60r4PM2U0', '1eAgMXxfEm26QBmYouSLO0', '6Lp6mTIu7YwDckY5mlZvxg', '4lR4XeD60gfhaFRexyUDBp', '7DAUg9e4BU822AWCgCtRW9', '7ETJd5sFZX1tS1dzIeAHBP', '5wOfUdlyM21LxYItRyVc5N', '7CvgvrKoprdoDR324uln1z', '423bim0Zc49M4m4NyqO64K', '5EqOGMLDm452yYwgrtFO39', '2gl1zrDYktvhcxcrx1ew1g'], '37T4qeUVTpx7Ps3HhSKdKc': ['605X2vhcVq5ybGCFp5In0O', '27CiyWWdkSAM6mWfaNYaxt', '0hm5UDqHjLGYhRs2uwTkQL', '655UslbCYFKUnSB4IFkYtF', '5WK6RdWMzy727y7S6SuuvV', '7h0RGvuBhI1k4P62MGmJ4W', '5CSQF53eyK7odKyV2F9zX9', '1AV0hoQPQVgaxHtpnWg7uC', '542vXXdt6AEPflvGV3JgDz', '0YJ1BRvHLnh9YDP3OAEV3Z', '41SreerLMGaQ1DzRlEa7hS', '0p41fu1b0pBhTVlUg65p0p', '7fshahYAyEYgUc6G6erqif', '2fQnq1CvRlJD71hljQNkTA', '7gIYxdfauL8HCTHSE8pd3Z'], '6eWrCdzfRUvNMDYWGHIExi': ['41FKfLVgzvmpTOwweamF97', '17ZUhkTEK46wyeWm4A71Ja', '2h69zCoBfa7nWoUPzF2a0y', '5DgypQHJHqFInEQmBWshuI', '2u6Lstxqcg5KtJhCivR87d', '5uUxYqx7h1KF5LR7rVQpN5', '6EGyyUiYhSAbeIEZKECMm7', '5EL8He4J2hrTWl9rxbE3DY', '7N3FYEwyWxcGEOWQEgYHVK', '6tP9u9uoAZNSq5Xek5wBUR', '3slVKcn9grcylK1kdkeEHK', '3WnBlq8F3XVl1BRf16EeGy', '3T6of15LF2oUgNRei0yz6w', '5rEYj78v1bqTdukgBriaKc', '0rxQNgeDU9WAx69m3Cxp9L', '7d27antMgZmiEWdiCRSSNG'], '1x93LZe2PKKrgePH2GZjCP': ['40PFDsokiYouQUg4oBY1WQ', '5T1jIyeY7953QsRW4ulhoP', '3peuqmiJOii5GQpf0kKlb6', '3TB0Y2ne2fkcWzZCtdsNFW', '3joVMFGpjUqz4NNKpRWV7j', '3YR4LSWg3okngWgLiJygxA', '0nB12BvO78aly6CDrjPoP0', '0uraV9ZQWGwbhEh0r1qrFQ', '4e7ApIA08hwHwezBJaJFou', '7JslkZP586GmkJHRtXmnQY', '6Gtt46YfRsK7ZggwA2H0c9', '1sNz5k4POwNzx9AZUdyjNK'], '674AkakAvjA3EnJayTQ4Qb': ['0iCEh2Y4LncuPf6tLJqY2u', '2QQAx24HO3Xi9JwywyKIT5', '5Ds28Xh5J1LOVo1S5QaOJD', '246nk7lIOR2ZRhk69BYgVB', '0EPxEuH2L8ZnNpzRczp7qM', '4OVZssA6X8q2NEG7ITILdH', '7vA6o1whQ4hVesoHb6WsH6', '17UeT1KFztzZu1mzVXBSqJ', '090yDvV3cK0cqriW3XWP7s', '4M50JsiVyYIRuC9x8guzPv', '3qNLGL1WrrSZpgMBEecXs6'], '0h9swlJeoJLVHmuxBoCi62': ['1Tr3sD4wtcAZ9M9wAgUfJv', '1mEiJLuss68OVn4eWUd48Z', '4CqYbUjEze4X2Hbd54F2qP', '1hVNJUg6jGbb1OykrsZ9sK', '529amlwr1iRoQd1O14nrPt', '5CtA9oz4qFXjYJ8PFpDSF8', '4j6pFq124yY9VavrEZSiT9', '7N25Lwq92wGfOwABPGGQRT', '40E1ypMAmoGT9jIiTsxKo5', '7gHYJKkwB9LghYfsCxfjJZ', '2olNAsLJihRnoJBx6uup3P', '5GCZc6TNWdXKSPJ6vDZiML', '7bkAe19cUt3LrZ4P1HMLyb'], '1u9PRTF6cfvCzZBYcXv6uV': ['196TZmLeMctc6MyS0ZHLSN', '3xom6jZsyxHikVVaGQe1V5', '3TYniDUOz4YibKf1pr1H15', '3HBckdJm0Z5akYP36lvO6o', '0uPsjY86GKiDa7BBn3sJen', '2W98XFj8pFKMyvhNxVwmyw', '4wHdbZV4IHuEQ9L4TXGXBr', '0dJHACYHo0kdZhA9N1XWOW', '5lnnq7CpzC6VC5QUFmFY06', '35ZGmwWHAtUDv3Zl0cT5FZ'], '0DUCdIMPrlfPFPPKsNyzx3': ['4tUs42F0aIe1lXd3AgNT85', '1AYgMuI3cgL5EjnfhnZVoq', '5cnByr8sMe2IUBlerB0PZQ', '5TQvmq3WCkYDjUWVZVPZNV', '61qPUnazSdkvua4wgA4L8C', '4RdcVT8qZw3W4cHhpeSVct', '0PpcE48eM1V7EIkA34972n', '04eGPLLztD5kp1g0JxtITn', '65MzTLCQBon6I6p98iNgJP', '0lbTkNvSWghDKnoBpN2IdN'], '1IXP3t3bPcgiSNSVKWu6Du': ['3WaSTOnqLtXmTj40CdzNAB', '1rYOEjT05cWtCWaLz3Kms4', '2cHQTFo9YXDpQN3Ef1GMou', '5pLGyY4KXYLuBHzZpqN7OJ', '2PRdfzW4QSWD86YmBmeBHa', '5PaotHYQjxsQ4lFEol7PRW', '0O2d3qMAHCPUaCzWuzitHV', '5SARIK8WpP41TKKXdzm8pT', '1Fnr3FpDxZ8LSQGIozmaeV', '0DDnFXxnsnhEgac2AluVJc', '2k8ImVQYB46iroGUb4AWbx'], '4oRMvqERfDZZGf56WF5v2q': ['2Mf1NFC7mP67eu9ADU5fcw', '7xbHitT1YHErg08w8KcieP', '0evGKZk4oJgfEIvXstYB4C', '26i8ATWDSQFTVH7OK0NHJ0', '2CO54glR1wp4sxzovCUFDo', '4FFXfWWNu6FRd5FveJL96c', '2gntFnlkg0mkBflHKFCt3H', '3peY8LkawnZSPd1uifQwRX', '5rk3R8wZDGbYQ5C1yObQnM', '3biLsRLK8zEiFbUK2Esenw', '2aBUpk2AFLYME8PXTx3lgK'], '15eHesyZJpvolTrSUJgoDX': ['0Hz8eaDCASgEdOb4xcxyct', '75n19eVLPSNWxYUlzjxIkg', '571PVMWxL6aEwyOOfRFXPF', '0CslZ6nd2hT1DbD1kvYNPV', '3KoIlsvQQrf1rCeuewrcPF', '4xzMbbJnbKiGAPslesTJok', '5zpZUFF7YyPG90nkR88RYd', '52z7GPI2906I3CpYHMb5DH', '16V5Xdw2fxJe94i0nHr3jY', '0C75cfWMmCfvFsGVS6KOvV', '5TssVHORtt2nk5Ldcjn8Ju', '5eo0pJS4XsHvth4Ad57lL0', '22NzfrAZD2YMMJKQhuK3mB', '4bl3aTWufugtFhxxaJgiDi'], '7FYLw9fTOiYnJFbFk2Mntn': ['0dsViRiDTIuexAL42Nc1Kh', '3L55aSsDkT5ojgy3WXjh7s', '7vcQl8nyhPd0yNEG1k1O4V', '2d4OxzOWcVWtACFsILP7Zj', '0SaKhiBPgdRaQKA7Bxu3ek', '5t1vLfAHUps4EE4gHrGulu', '65tPakuFUefM2XRf9HMiNg', '6k0YrBhOalu9WxoIpmMdfH', '4QUZmQn9B5E5IOdaZ1VCxK', '49TvST0pVJdZ1ZztrT7DnQ', '41Exz0P3EDlhJfeANqroAt', '63CNWkjnSpHpNGHEjzYYwZ', '6dlXEW7tH6Fs8qdUehMbuS', '5gUXLgX9nLGb1AEZTSKOQm'], '1EKYYcWJkAYQ78GNYhYrJv': ['55M45EWogk3DtnCYgKSl2v', '5DDD6KHE7Wn0ZDnOPxrHIn', '3jj9w3BpvfOR8dS3YYXhPj', '5fttXOpozuWWjbPNdthz7R', '5IZjh0CVXSDZSyXyXDNAdP', '529rRqiHth42S8lVAPOT5g', '2D7K0PSbegBShA3yvG1Ne6'], '7EQlXvy03jQfNjy3Ff8jGb': ['0GLqc6lub2aRyhAk7mkTOj', '4nEewk8R91kHsc74AJwIFc', '4t4Q8loL2fiEqicYcFS1kt', '4neyidAAhUITgS5JKPIKo9', '3mzCQgEUhHMucR2JuZ1I6s', '4nMEs9raLjI9UK9eqAJmIY', '3xQmF8GBNAfs9KAvQ3Gotd', '3Apyqp7u4sCfrKQgAcQTfM', '7fO7pKRutzaIqXLOh3KSpY', '1zHXcqkmqkpZbyKjlpPkHK', '5OB8LSCmOYdC0OSod6lUdZ', '4SZuXryCLXaJkXihSRgm3M', '5GhHtZQzJWcPFvXjbdScFT'], '2VMsGuuC4CDcyZ8qp7njWh': ['7L2arBxHMxVXbWQzaHKgnY', '6LTyESjGFAp6x2yXoo4wbm', '5DSgzNSlB4EHCIi8YAXxWn', '7gAJJUgHyiaNrpbyBLmKff', '60GX3BzwD0n4RlntDDsnxO', '2jEjxOyKqMpkcThWl697hf', '1qdeIyGOKgDp70C5Lz5Jly', '2aC1LhcoW8fgUDLJFmjlDC', '4Tuae8qX3iXY11D7LMPrPR', '2Dsv2vdCfLucFIoECqAK6U', '6I273Xd7yB2qRCoHTpvaAa', '793tcVG6nIcgbfRmwq2jbT'], '5ZfZ0PWqGTRHmOxkIkQaLE': ['2Omfk5XZwsC4aQquyEaub6', '6A9xXDSHU6gHKl6bdIoCp4', '4JBhJRJqDdD7ibHEwXca8z', '316Uuzw6y9L8HmAeZwQqSr', '3w3Lfi1QtXfxV2AePvSY1w', '3pVstARzhJC1RuSqXc0nRE', '4YFAHKXJFCamXJ8m08gF69', '0EPdzKs5ZBmUwZqYXXEcjN', '0YIn8t6qD3aHgY3oWVGW13', '5Y54LYsyNbcacSIkRj7PAR', '7wCEx3E9pmmTpLPVLBjWN8', '1VllgIuxghqI3qqh6kgDIH', '3gpeRbLpsFFl91ylz8Uycd', '0je02EivBDRRsRXC2voWLg', '4Jk6ZT9QuRN48Vklu1o6qI', '5QTRU5vIDvsAqjBGEBETiG', '5V6yP1DpdWyF2gW7VQKztd', '3zsrxImXgoplvMZla6sXk4']}, 'total_tracks': ['7kb9NS6gItiOUc0ScsbnBP', '60Gx4M8cwqCV2TtAKop2iY', '5rp2y5UbMOvc7S3MCKrjI4', '5MULRnOqlPreeiOufzx7Kf', '0p5aYD8fu2jvDtawm2inOA', '3Rk611iAyxHtCWLVVgxs6b', '6uYefVt4V9eSEyuDFv2Cu9', '518GqXyTNyUxpNRPorJba6', '0UqraDB2ofMR56fDAbZRVJ', '6txmX4Wnc1FLnH13LszrY6', '761YGXxcCdDip2IZylWDnq', '38q3yJLq3igUMu85LE0pQU', '34u0T0mr5tTAOG8olordHY', '4DWsnZ2AdlhGVZYLB5cmH1', '0AK6oKtH1xi0y66ZkN6OGT', '29FRFwLHf0Ec9q6I9K0jLZ', '4Qmqux7KiBuz31IcJzHt05', '5dLV8GMKd44Y24Vri6qLno', '7nY0VWOxHHhKIp8YhPfH5c', '6Z1ljEyzvcjq3WcGrKXBIB', '4DC4XNDhKwaRJJyhQ9CRaS', '76fRqikkTZMAVsr7OVPZxl', '0hWL7RaBdVEXjd2RYVSJPp', '3ig0xkpP1fVJYr9JZW8lwf', '1XhnMCVyuXwHOaV6n6gLts', '0a5ni86faQ2p8uZh1vvnvx', '53UkQ1uvwBXgF3f0Ttd0J7', '2qEdgls42l1JO1Ysawj4X8', '1fXc4sBktxy3N5JIvClZ4l', '2w4RdnyrpxJA0xvVsZHInx', '4Taxs5dUrRaGpPkVO6OJ9v', '0KqEEVlfDJn9NWJYjhyslt', '0nTx6UXoC7j483ex1CNujR', '2NPfSoZEfn9P2oyPu0bPja', '3XwcTaXBtDtkgZPj3mqne0', '5NJkAHlxAXlPbP1lRu3PwF', '3GuYRNzX3sBosPPe47sER0', '4JVexr1QbpLN3PaV8wEqWN', '4BmRZOPEDUZCVv6eKDSUP4', '27oIVZRxQq5TRl7U9vBQAc', '5hhMFiuXi29EPNn2Jkzdot', '7noFHAU3amW0XYiDCWJDFd', '5JGPFrdbM8zrMqxheOKAwI', '4oImiDHlOTOVD4dnnsNpCZ', '4PxOR5geaJtZFe4Q3I115t', '6M6aCePRkHqmQsUGa6BegN', '1bMxpgwLvaqYOuTZnXBfEV', '10P4XH3RgfNciWKxycGZLK', '0DiIIEstbNXB8aw8oUAdfr', '3jT0zBtM0QU0KvG3SVRvrf', '5vZnzndimesby1tYdDUKsM', '7cZXR7MmUEtIE5FqNV9Cl2', '59XAQApPDhjfQJo3OCfX8M', '3kUYO8UMNxuOCPuERmQYKa', '31zBepK85TuA9odzKt1j4F', '4cVAoBkWWpGkIkoHkjqi0L', '6LJOsSpX7uiRYSsz4jdIbj', '5Rztx8xya1tLEY4Aeg3DQy', '48VGs9SDB3S7posmm5dCeg', '36zR98lUHR5PLYDdu7p4zG', '3wEBkpoWes30DtGU26TOFM', '1PXwZ4RsSnyNM2YNLaBPcx', '34JTm2YprK202b4EdaOZ6d', '2EPcKcUIVc3Z2jELycSw6h', '0rxHqdKBBg1WlTolPn8wJ5', '3rBpUoOCLi8CPxEzcgOxOG', '0SeFwOJ284v8FpX1Prb4lC', '0Pf4A0UQaOzyZ9ywxgnY7l', '0RYzw5M3RlxuLBeJQT2v0P', '1HJLRsyLR7B9XjcSLM4OTy', '6kcBnMotnpg669Z1SvJmgt', '6GtQR1iH4iAWy9JJksSraZ', '33NxmIaZFKrap8tTF7WbGI', '4EnNACFTaDCyHbYDR56zRJ', '1Ugd1d628BYfZ60r4PM2U0', '1eAgMXxfEm26QBmYouSLO0', '6Lp6mTIu7YwDckY5mlZvxg', '4lR4XeD60gfhaFRexyUDBp', '7DAUg9e4BU822AWCgCtRW9', '7ETJd5sFZX1tS1dzIeAHBP', '5wOfUdlyM21LxYItRyVc5N', '7CvgvrKoprdoDR324uln1z', '423bim0Zc49M4m4NyqO64K', '5EqOGMLDm452yYwgrtFO39', '2gl1zrDYktvhcxcrx1ew1g', '605X2vhcVq5ybGCFp5In0O', '27CiyWWdkSAM6mWfaNYaxt', '0hm5UDqHjLGYhRs2uwTkQL', '655UslbCYFKUnSB4IFkYtF', '5WK6RdWMzy727y7S6SuuvV', '7h0RGvuBhI1k4P62MGmJ4W', '5CSQF53eyK7odKyV2F9zX9', '1AV0hoQPQVgaxHtpnWg7uC', '542vXXdt6AEPflvGV3JgDz', '0YJ1BRvHLnh9YDP3OAEV3Z', '41SreerLMGaQ1DzRlEa7hS', '0p41fu1b0pBhTVlUg65p0p', '7fshahYAyEYgUc6G6erqif', '2fQnq1CvRlJD71hljQNkTA', '7gIYxdfauL8HCTHSE8pd3Z', '41FKfLVgzvmpTOwweamF97', '17ZUhkTEK46wyeWm4A71Ja', '2h69zCoBfa7nWoUPzF2a0y', '5DgypQHJHqFInEQmBWshuI', '2u6Lstxqcg5KtJhCivR87d', '5uUxYqx7h1KF5LR7rVQpN5', '6EGyyUiYhSAbeIEZKECMm7', '5EL8He4J2hrTWl9rxbE3DY', '7N3FYEwyWxcGEOWQEgYHVK', '6tP9u9uoAZNSq5Xek5wBUR', '3slVKcn9grcylK1kdkeEHK', '3WnBlq8F3XVl1BRf16EeGy', '3T6of15LF2oUgNRei0yz6w', '5rEYj78v1bqTdukgBriaKc', '0rxQNgeDU9WAx69m3Cxp9L', '7d27antMgZmiEWdiCRSSNG', '40PFDsokiYouQUg4oBY1WQ', '5T1jIyeY7953QsRW4ulhoP', '3peuqmiJOii5GQpf0kKlb6', '3TB0Y2ne2fkcWzZCtdsNFW', '3joVMFGpjUqz4NNKpRWV7j', '3YR4LSWg3okngWgLiJygxA', '0nB12BvO78aly6CDrjPoP0', '0uraV9ZQWGwbhEh0r1qrFQ', '4e7ApIA08hwHwezBJaJFou', '7JslkZP586GmkJHRtXmnQY', '6Gtt46YfRsK7ZggwA2H0c9', '1sNz5k4POwNzx9AZUdyjNK', '0iCEh2Y4LncuPf6tLJqY2u', '2QQAx24HO3Xi9JwywyKIT5', '5Ds28Xh5J1LOVo1S5QaOJD', '246nk7lIOR2ZRhk69BYgVB', '0EPxEuH2L8ZnNpzRczp7qM', '4OVZssA6X8q2NEG7ITILdH', '7vA6o1whQ4hVesoHb6WsH6', '17UeT1KFztzZu1mzVXBSqJ', '090yDvV3cK0cqriW3XWP7s', '4M50JsiVyYIRuC9x8guzPv', '3qNLGL1WrrSZpgMBEecXs6', '1Tr3sD4wtcAZ9M9wAgUfJv', '1mEiJLuss68OVn4eWUd48Z', '4CqYbUjEze4X2Hbd54F2qP', '1hVNJUg6jGbb1OykrsZ9sK', '529amlwr1iRoQd1O14nrPt', '5CtA9oz4qFXjYJ8PFpDSF8', '4j6pFq124yY9VavrEZSiT9', '7N25Lwq92wGfOwABPGGQRT', '40E1ypMAmoGT9jIiTsxKo5', '7gHYJKkwB9LghYfsCxfjJZ', '2olNAsLJihRnoJBx6uup3P', '5GCZc6TNWdXKSPJ6vDZiML', '7bkAe19cUt3LrZ4P1HMLyb', '196TZmLeMctc6MyS0ZHLSN', '3xom6jZsyxHikVVaGQe1V5', '3TYniDUOz4YibKf1pr1H15', '3HBckdJm0Z5akYP36lvO6o', '0uPsjY86GKiDa7BBn3sJen', '2W98XFj8pFKMyvhNxVwmyw', '4wHdbZV4IHuEQ9L4TXGXBr', '0dJHACYHo0kdZhA9N1XWOW', '5lnnq7CpzC6VC5QUFmFY06', '35ZGmwWHAtUDv3Zl0cT5FZ', '4tUs42F0aIe1lXd3AgNT85', '1AYgMuI3cgL5EjnfhnZVoq', '5cnByr8sMe2IUBlerB0PZQ', '5TQvmq3WCkYDjUWVZVPZNV', '61qPUnazSdkvua4wgA4L8C', '4RdcVT8qZw3W4cHhpeSVct', '0PpcE48eM1V7EIkA34972n', '04eGPLLztD5kp1g0JxtITn', '65MzTLCQBon6I6p98iNgJP', '0lbTkNvSWghDKnoBpN2IdN', '3WaSTOnqLtXmTj40CdzNAB', '1rYOEjT05cWtCWaLz3Kms4', '2cHQTFo9YXDpQN3Ef1GMou', '5pLGyY4KXYLuBHzZpqN7OJ', '2PRdfzW4QSWD86YmBmeBHa', '5PaotHYQjxsQ4lFEol7PRW', '0O2d3qMAHCPUaCzWuzitHV', '5SARIK8WpP41TKKXdzm8pT', '1Fnr3FpDxZ8LSQGIozmaeV', '0DDnFXxnsnhEgac2AluVJc', '2k8ImVQYB46iroGUb4AWbx', '2Mf1NFC7mP67eu9ADU5fcw', '7xbHitT1YHErg08w8KcieP', '0evGKZk4oJgfEIvXstYB4C', '26i8ATWDSQFTVH7OK0NHJ0', '2CO54glR1wp4sxzovCUFDo', '4FFXfWWNu6FRd5FveJL96c', '2gntFnlkg0mkBflHKFCt3H', '3peY8LkawnZSPd1uifQwRX', '5rk3R8wZDGbYQ5C1yObQnM', '3biLsRLK8zEiFbUK2Esenw', '2aBUpk2AFLYME8PXTx3lgK', '0Hz8eaDCASgEdOb4xcxyct', '75n19eVLPSNWxYUlzjxIkg', '571PVMWxL6aEwyOOfRFXPF', '0CslZ6nd2hT1DbD1kvYNPV', '3KoIlsvQQrf1rCeuewrcPF', '4xzMbbJnbKiGAPslesTJok', '5zpZUFF7YyPG90nkR88RYd', '52z7GPI2906I3CpYHMb5DH', '16V5Xdw2fxJe94i0nHr3jY', '0C75cfWMmCfvFsGVS6KOvV', '5TssVHORtt2nk5Ldcjn8Ju', '5eo0pJS4XsHvth4Ad57lL0', '22NzfrAZD2YMMJKQhuK3mB', '4bl3aTWufugtFhxxaJgiDi', '0dsViRiDTIuexAL42Nc1Kh', '3L55aSsDkT5ojgy3WXjh7s', '7vcQl8nyhPd0yNEG1k1O4V', '2d4OxzOWcVWtACFsILP7Zj', '0SaKhiBPgdRaQKA7Bxu3ek', '5t1vLfAHUps4EE4gHrGulu', '65tPakuFUefM2XRf9HMiNg', '6k0YrBhOalu9WxoIpmMdfH', '4QUZmQn9B5E5IOdaZ1VCxK', '49TvST0pVJdZ1ZztrT7DnQ', '41Exz0P3EDlhJfeANqroAt', '63CNWkjnSpHpNGHEjzYYwZ', '6dlXEW7tH6Fs8qdUehMbuS', '5gUXLgX9nLGb1AEZTSKOQm', '55M45EWogk3DtnCYgKSl2v', '5DDD6KHE7Wn0ZDnOPxrHIn', '3jj9w3BpvfOR8dS3YYXhPj', '5fttXOpozuWWjbPNdthz7R', '5IZjh0CVXSDZSyXyXDNAdP', '529rRqiHth42S8lVAPOT5g', '2D7K0PSbegBShA3yvG1Ne6', '0GLqc6lub2aRyhAk7mkTOj', '4nEewk8R91kHsc74AJwIFc', '4t4Q8loL2fiEqicYcFS1kt', '4neyidAAhUITgS5JKPIKo9', '3mzCQgEUhHMucR2JuZ1I6s', '4nMEs9raLjI9UK9eqAJmIY', '3xQmF8GBNAfs9KAvQ3Gotd', '3Apyqp7u4sCfrKQgAcQTfM', '7fO7pKRutzaIqXLOh3KSpY', '1zHXcqkmqkpZbyKjlpPkHK', '5OB8LSCmOYdC0OSod6lUdZ', '4SZuXryCLXaJkXihSRgm3M', '5GhHtZQzJWcPFvXjbdScFT', '7L2arBxHMxVXbWQzaHKgnY', '6LTyESjGFAp6x2yXoo4wbm', '5DSgzNSlB4EHCIi8YAXxWn', '7gAJJUgHyiaNrpbyBLmKff', '60GX3BzwD0n4RlntDDsnxO', '2jEjxOyKqMpkcThWl697hf', '1qdeIyGOKgDp70C5Lz5Jly', '2aC1LhcoW8fgUDLJFmjlDC', '4Tuae8qX3iXY11D7LMPrPR', '2Dsv2vdCfLucFIoECqAK6U', '6I273Xd7yB2qRCoHTpvaAa', '793tcVG6nIcgbfRmwq2jbT', '2Omfk5XZwsC4aQquyEaub6', '6A9xXDSHU6gHKl6bdIoCp4', '4JBhJRJqDdD7ibHEwXca8z', '316Uuzw6y9L8HmAeZwQqSr', '3w3Lfi1QtXfxV2AePvSY1w', '3pVstARzhJC1RuSqXc0nRE', '4YFAHKXJFCamXJ8m08gF69', '0EPdzKs5ZBmUwZqYXXEcjN', '0YIn8t6qD3aHgY3oWVGW13', '5Y54LYsyNbcacSIkRj7PAR', '7wCEx3E9pmmTpLPVLBjWN8', '1VllgIuxghqI3qqh6kgDIH', '3gpeRbLpsFFl91ylz8Uycd', '0je02EivBDRRsRXC2voWLg', '4Jk6ZT9QuRN48Vklu1o6qI', '5QTRU5vIDvsAqjBGEBETiG', '5V6yP1DpdWyF2gW7VQKztd', '3zsrxImXgoplvMZla6sXk4']}\n"
     ]
    }
   ],
   "source": [
    "def get_artist_info(artist_name):\n",
    "    \"\"\"\n",
    "    This function takes an artist name as input and returns a dictionary containing the artist's ID and genre (if available).\n",
    "\n",
    "    Args:\n",
    "        artist_name (str): The name of the artist to search for.\n",
    "\n",
    "    Returns:\n",
    "        dict: A dictionary containing the artist's ID and genre (or None if not found).\n",
    "    \"\"\"\n",
    "    try:\n",
    "        search_results = sp.search(q=artist_name, type='artist')\n",
    "        artists = search_results['artists']['items']\n",
    "\n",
    "        if artists:\n",
    "            artist_info = artists[0]  \n",
    "            artist_id = artist_info['id']\n",
    "            genres = artist_info.get('genres', [])  \n",
    "            albums_results = sp.artist_albums(artist_id)\n",
    "            album_ids = [album['id'] for album in albums_results['items']]\n",
    "\n",
    "            album_tracks = {}\n",
    "            total_tracks = []  \n",
    "\n",
    "            # Loop through each album ID\n",
    "            for album_id in album_ids:\n",
    "                # Get album tracks (limit to 50 tracks per request)\n",
    "                tracks_results = sp.album_tracks(album_id, limit=50)\n",
    "                tracks = tracks_results['items']\n",
    "\n",
    "                while tracks_results['next']:\n",
    "                    tracks_results = sp.next(tracks_results)\n",
    "                    tracks.extend(tracks_results['items'])\n",
    "                    \n",
    "                album_tracks[album_id] = [track['id'] for track in tracks]\n",
    "                total_tracks.extend(album_tracks[album_id])\n",
    "\n",
    "            return {\n",
    "                'artist_id': artist_id,\n",
    "                'genres': genres,\n",
    "                'album_ids': album_ids,\n",
    "                'album_tracks': album_tracks,\n",
    "                'total_tracks': total_tracks\n",
    "            }\n",
    "    \n",
    "    except:\n",
    "        print(f\"Error al hacer la solicitud de info de artista en la API de Spotify\")\n",
    "        return None\n",
    "\n",
    "print(get_artist_info(\"babasonicos\")) # A modo de ejemplo imprimo el return de Babass"
   ]
  },
  {
   "cell_type": "code",
   "execution_count": 62,
   "metadata": {},
   "outputs": [],
   "source": [
    "def get_track_features(track_id):\n",
    "    \"\"\"\n",
    "    This function takes track id as input and returns a dictionary with track info.\n",
    "\n",
    "    Args:\n",
    "        track_id (str): The ID of the track search for.\n",
    "\n",
    "    Returns:\n",
    "        dict: A dictionary containing the features and attributes of the track.\n",
    "    \"\"\"\n",
    "    try:\n",
    "        track_info = sp.track(track_id)\n",
    "        features = sp.audio_features(track_id)[0]\n",
    "    \n",
    "        return {\n",
    "            'track_id': track_info['id'],\n",
    "            'track_name': track_info['name'],\n",
    "            'artist_name': track_info['artists'][0]['name'],\n",
    "            'popularity': track_info['popularity'],\n",
    "            'danceability': features['danceability'],\n",
    "            'energy': features['energy'],\n",
    "            'key': features['key'],\n",
    "            'loudness': features['loudness'],\n",
    "            'mode': features['mode'],\n",
    "            'speechiness': features['speechiness'],\n",
    "            'acousticness': features['acousticness'],\n",
    "            'instrumentalness': features['instrumentalness'],\n",
    "            'liveness': features['liveness'],\n",
    "            'valence': features['valence'],\n",
    "            'tempo': features['tempo'],\n",
    "            'duration_seg' : features['duration_ms']/1000\n",
    "        }\n",
    "    except:\n",
    "        print(f\"Error when requesting track information in Spotify API\")\n",
    "        return None\n"
   ]
  },
  {
   "cell_type": "code",
   "execution_count": null,
   "metadata": {},
   "outputs": [],
   "source": [
    "\n",
    "def create_dataframe(artist_names):\n",
    "    \"\"\"\n",
    "    This function takes a list of artist names and returns a DataFrame containing combined track features for all artists.\n",
    "\n",
    "    Args:\n",
    "        artist_names (list): A list containing names of artists to search for.\n",
    "\n",
    "    Returns:\n",
    "        DataFrame: A DataFrame containing combined track features.\n",
    "    \"\"\"\n",
    "\n",
    "    # Initialize an empty DataFrame to store combined results\n",
    "    df = pd.DataFrame()\n",
    "\n",
    "    # Loop through each artist name\n",
    "    for artist_name in artist_names:\n",
    "        artist_data = get_artist_info(artist_name)  # Get artist information\n",
    "\n",
    "        # Extract track IDs and features\n",
    "        tracks_data = [get_track_features(track_id) for track_id in artist_data['total_tracks']]\n",
    "\n",
    "        # Create a temporary DataFrame for this artist's tracks\n",
    "        artist_df = pd.DataFrame(tracks_data)\n",
    "\n",
    "        # # Add a 'genre' column and fill with the first genre (assuming single genre)\n",
    "        # artist_df['genre'] = 0\n",
    "        # artist_df['genre'].fillna(artist_data['genres'][0], inplace=True)  # Assuming first artist's genre\n",
    "\n",
    "        # Concatenate the artist's DataFrame to the combined DataFrame\n",
    "        df = pd.concat([df, artist_df], ignore_index=True)  # Avoid duplicate indices\n",
    "\n",
    "        #To delete the infiltrators artist\n",
    "        # unwanted_artist = df[~df[\"artist_name\"].isin(artist_names)].index\n",
    "        # df.drop(unwanted_artist, inplace=True)\n",
    "\n",
    "    return df\n",
    "\n",
    "# Call the function after retrieving artist \n",
    "#\"Trueno\",\"Airbag\",\"Duki\",\"Callejeros\",\"Acru\",\"Ciro y los Persas\",\"YSY A\",\"Frescolate\"\n",
    "#\"La Mona Jimenez\",\"Damas Gratis\",\"Nestor en Bloque\",\"Nene malo\",\"Los Palmeras\",\"Ulises Bueno\",\"Luck Ra\",\"la K'onga\",\"\"\n",
    "artist_names = [\"Los Pibes Chorros\"]\n",
    "df = create_dataframe(artist_names)\n"
   ]
  },
  {
   "cell_type": "code",
   "execution_count": null,
   "metadata": {},
   "outputs": [],
   "source": [
    "df['artist_name'].value_counts()"
   ]
  },
  {
   "cell_type": "code",
   "execution_count": null,
   "metadata": {},
   "outputs": [],
   "source": [
    "unwanted_artist = df[~df[\"artist_name\"].isin(artist_names)].index\n",
    "df.drop(unwanted_artist, inplace=True)\n",
    "\n",
    "df['artist_name'].value_counts()"
   ]
  },
  {
   "cell_type": "markdown",
   "metadata": {},
   "source": [
    "Como los artistas están siendo elegidos por mi, teniendo en cuenta lo que considero artistas representantes específicamente de su género, designó el tag de género de esta forma. También se puede hacer de manera automática con el género de cada artista que nos devuelve la API, pero en múltiples casos este valor no estaba bien designado o era nulo, por eso decidí hacerlo de manera manual. "
   ]
  },
  {
   "cell_type": "code",
   "execution_count": null,
   "metadata": {},
   "outputs": [],
   "source": [
    "# Genre. 0 = Cuarteto ; 1 = Cumbia\n",
    "df['genre'] = 1\n",
    "# indice =  df['artist_name'] == artist_names  \n",
    "# df.loc[indice, 'genre'] = 1\n",
    "\n",
    "df['genre'].value_counts()"
   ]
  },
  {
   "cell_type": "markdown",
   "metadata": {},
   "source": [
    "Ahora solo falta juntar esta nueva informacion con la info de otros artistas ya analisados, para ello guardo los valores en 'data.csv'"
   ]
  },
  {
   "cell_type": "code",
   "execution_count": null,
   "metadata": {},
   "outputs": [],
   "source": [
    "df_old = pd.read_csv('data.csv')\n",
    "# Add the new artist into the original DataFrame\n",
    "df_new = pd.concat([df_old, df], ignore_index=True)\n",
    "\n",
    "# Save the DataFrame into 'data.csv'\n",
    "df_new.to_csv('data.csv', index=False)\n"
   ]
  },
  {
   "cell_type": "markdown",
   "metadata": {},
   "source": [
    "# Nueva Feature\n",
    "\n",
    "En este punto ya se creó el dataset, se guardó artista por artista en el .csv. Pero resultaría interesante agregar una entrada más, que hable un poco de la letra de estas canciones. Ya que al fin y al cabo las features obtenidas de spotify habla en general de la música pero no del contenido de la letra en sí mismo.\n",
    "\n",
    "Para esto se realizará un análisis sentimental de cada letra, lo primero es leer el dataset y quiero ver que los registros estén balanceados.\n"
   ]
  },
  {
   "cell_type": "code",
   "execution_count": 6,
   "metadata": {},
   "outputs": [
    {
     "data": {
      "text/plain": [
       "genre\n",
       "0    1041\n",
       "1     904\n",
       "Name: count, dtype: int64"
      ]
     },
     "execution_count": 6,
     "metadata": {},
     "output_type": "execute_result"
    }
   ],
   "source": [
    "df_spotify = pd.read_csv('data.csv')\n",
    "df_spotify['genre'].value_counts()\n"
   ]
  },
  {
   "cell_type": "markdown",
   "metadata": {},
   "source": [
    "Lo primero que voy a necesitar es la letra de cada canción, spotify no me provee de esta info asi que ya no voy a poder recurrir a la API. \n",
    "\n",
    "No queda otra que aventurarse en las oscuras artes del scraping, la página letras.com parece ser ideal para esto.\n",
    "\n",
    "Utilizando BeautifulSoup e inspeccionando un poco el html de la página logró crear la función \"obtener_letra\" que me devuelve la letra de cada una de las canciones."
   ]
  },
  {
   "cell_type": "code",
   "execution_count": 63,
   "metadata": {},
   "outputs": [
    {
     "name": "stdout",
     "output_type": "stream",
     "text": [
      "Letra de sos-boton de damas-gratis:\n",
      "¡Sufre, por hacerte el policia!¡No!, no lo puedo creerVos ya no sos el vagoYa no sos el atorranteAl que los pibes lo llamaban el picanteAhora te llaman botonYa no estásCon tus amigosY en la esquina te la dabasDe polenta, de malevo y de matonY solo eras un botonY solo eras un botonVos sos un botonNunca vi a un policiaTan amargo como vosVos sos un botonNunca vi a un policiaTan amargo como vos¡Damas gratis, wipi!Para vos, CarlitosCuando ibas a la canchaParabas con la hinchadaY tomabas vino blancoY ahora patrullas la ciudadSi vas a la cancha vas con celularY a tus amigosAndas arrestandoSos el policia del comandoVos sos un botonNunca vi a un policiaTan amargo como vosVos sos un botonNunca vi a un policiaTan amargo como vosVos sos un botonNunca vi a un policiaTan amargo como vosVos sos un botonNunca vi a un policiaTan amargo como vos\n"
     ]
    }
   ],
   "source": [
    "import requests\n",
    "from bs4 import BeautifulSoup\n",
    "\n",
    "def obtener_letra(artista, titulo):\n",
    "  \"\"\"\n",
    "  Función para obtener la letra de una canción en Letras.com.\n",
    "\n",
    "  Args:\n",
    "    artista: Nombre del artista.\n",
    "    titulo: Título de la canción.\n",
    "\n",
    "  Returns:\n",
    "    La letra de la canción como string, o None si no se encuentra.\n",
    "  \"\"\"\n",
    "  artista = artista.lower().replace(\" \",\"-\")\n",
    "  # titulo = re.sub(r\"\\s*\\(.*?\\)\\s*\", \"\", titulo)\n",
    "  titulo = re.sub(r\"[\\(\\[].*?[\\)\\]]\", \"\", titulo)\n",
    "  titulo = re.sub(r\"/.*\", \"\", titulo)\n",
    "  titulo = titulo.lower().replace(\" \",\"-\")\n",
    "\n",
    "\n",
    "  url = f\"https://www.letras.com/{artista}/{titulo}\"\n",
    "  response = requests.get(url)\n",
    "\n",
    "  if response.status_code == 200:\n",
    "    soup = BeautifulSoup(response.content, 'html.parser')\n",
    "    letra_div = soup.find('div', class_ = \"lyric-original font --lyrics --size18\")\n",
    "\n",
    "    if letra_div:\n",
    "      return letra_div.text.strip()\n",
    "    else:\n",
    "      return None\n",
    "  else:\n",
    "    print(f\"Error al acceder a la URL: {url}\")\n",
    "    return None\n",
    "\n",
    "# Ejemplo de uso\n",
    "artista = \"damas-gratis\"\n",
    "titulo = \"sos-boton\"\n",
    "\n",
    "letra = obtener_letra(artista, titulo)\n",
    "\n",
    "if letra:\n",
    "  print(f\"Letra de {titulo} de {artista}:\\n{letra}\")\n",
    "else:\n",
    "  print(f\"No se encontró la letra de {titulo} de {artista}\")"
   ]
  },
  {
   "cell_type": "markdown",
   "metadata": {},
   "source": [
    "La letra que nos provee letras.com tiene algunos problemas de formato, para esto creo el metodo \"agregar_espacios\" asi la acomodamos un poco"
   ]
  },
  {
   "cell_type": "code",
   "execution_count": null,
   "metadata": {},
   "outputs": [],
   "source": [
    "def agregar_espacios(texto):\n",
    "  \"\"\"\n",
    "  Función para agregar espacios antes de mayúsculas en un texto usando expresiones regulares.\n",
    "\n",
    "  Args:\n",
    "    texto: El texto original.\n",
    "\n",
    "  Returns:\n",
    "    El texto con espacios agregados antes de mayúsculas.\n",
    "  \"\"\"\n",
    "  if texto:\n",
    "    return re.sub(r\"([a-z])([A-Z])\", r\"\\1. \\2\", texto)\n",
    "  else:\n",
    "    return None"
   ]
  },
  {
   "cell_type": "markdown",
   "metadata": {},
   "source": [
    "El metodo \"sentimental_coeficient\" implementa el objeto sentiment_analysis y obtiene el valor de \"positividad\" de cada una de las frases de la cancion para luego promediarlas y lograr un valor general de positividad del track."
   ]
  },
  {
   "cell_type": "code",
   "execution_count": null,
   "metadata": {},
   "outputs": [],
   "source": [
    "def sentimental_coeficient(letra):\n",
    "    \"\"\"\n",
    "    Funcion que retorna el valor de sentimiento obtenido del promedio en las frases de la \n",
    "    Args: \n",
    "        letra: Letra de la cansion\n",
    "\n",
    "    Returns:\n",
    "        La media de los sentimientos donde 1 es alegría y 0 tristeza\n",
    "    \"\"\"\n",
    "    if letra:\n",
    "        letra = agregar_espacios(letra)\n",
    "        sentimental = sentiment_analysis.SentimentAnalysisSpanish() # Inicializamos el objeto\n",
    "        sentimental_coef = np.array([sentimental.sentiment(f) for f in letra.split('.')])\n",
    "        sentimental_mean = np.mean(sentimental_coef) \n",
    "        if sentimental_mean:\n",
    "            return sentimental_mean\n",
    "        else:\n",
    "            return 0\n",
    "    else :\n",
    "        return 0"
   ]
  },
  {
   "cell_type": "markdown",
   "metadata": {},
   "source": [
    "Solo falta recorrer todas las canciones en el dataset y añadir a cada registro la \"positividad\""
   ]
  },
  {
   "cell_type": "code",
   "execution_count": null,
   "metadata": {},
   "outputs": [],
   "source": [
    "for index, row in df_spotify.iterrows():\n",
    "    if df_spotify[\"positividad\"][index] == 0:\n",
    "        print(row[\"track_name\"])\n",
    "        track_name = re.split(r\" - \",row[\"track_name\"])[0]\n",
    "        print(track_name)\n",
    "        if \"!\" in track_name:\n",
    "            df_spotify.drop(index, inplace = True)\n",
    "        else:    \n",
    "            letra = obtener_letra(row[\"artist_name\"],track_name)\n",
    "            letra = agregar_espacios(letra)\n",
    "            print(index)\n",
    "            df_spotify.loc[index,\"positividad\"] = sentimental_coeficient(letra)\n",
    "            print(df_spotify[\"positividad\"][index])"
   ]
  }
 ],
 "metadata": {
  "kernelspec": {
   "display_name": "Python (myenv)",
   "language": "python",
   "name": "myenv"
  },
  "language_info": {
   "codemirror_mode": {
    "name": "ipython",
    "version": 3
   },
   "file_extension": ".py",
   "mimetype": "text/x-python",
   "name": "python",
   "nbconvert_exporter": "python",
   "pygments_lexer": "ipython3",
   "version": "3.12.3"
  }
 },
 "nbformat": 4,
 "nbformat_minor": 2
}
