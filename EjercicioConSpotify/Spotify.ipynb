{
 "cells": [
  {
   "cell_type": "markdown",
   "metadata": {},
   "source": [
    "# Idea del Proyecto: Predicción del Éxito de una Canción\n",
    "Paso 1: Recopilación de Datos\n",
    "\n",
    "a) Datos de Spotify API:\n",
    "\n",
    "Utiliza la API de Spotify para recopilar datos sobre las características de las canciones. Puedes obtener información sobre el tempo, la energía, la bailabilidad, la popularidad, etc.\n",
    "\n",
    "b) Scraping Web:\n",
    "\n",
    "Realiza scraping en una página como Billboard para obtener datos sobre el rendimiento de las canciones en las listas de éxitos. Esto te dará una idea de qué canciones fueron exitosas y cuáles no. Puedes buscar la posición en las listas de las canciones, la cantidad de semanas que estuvieron en las listas, etc.\n"
   ]
  },
  {
   "cell_type": "markdown",
   "metadata": {},
   "source": [
    "Paso 2: Procesamiento y Análisis de Datos\n",
    "Combina los datos de la API de Spotify con los datos de scraping para crear un conjunto de datos completo.\n",
    "Realiza un análisis exploratorio de datos para comprender mejor las características de las canciones exitosas.\n",
    "Limpia y prepara los datos para el modelado."
   ]
  },
  {
   "cell_type": "markdown",
   "metadata": {},
   "source": [
    "Paso 3: Modelado y Predicción\n",
    "a) Algoritmos de Clasificación o Predicción:\n",
    "\n",
    "Utiliza algoritmos de clasificación o regresión para predecir el éxito de una canción.\n",
    "Algunos algoritmos que podrías probar incluyen:\n",
    "Regresión Logística\n",
    "Árboles de Decisión\n",
    "Bosques Aleatorios\n",
    "Gradient Boosting\n",
    "Redes Neuronales\n",
    "b) Evaluación del Modelo:\n",
    "\n",
    "Divide tus datos en conjuntos de entrenamiento y prueba.\n",
    "Entrena varios modelos y evalúa su rendimiento utilizando métricas como precisión, exhaustividad, F1-score, etc.\n"
   ]
  },
  {
   "cell_type": "markdown",
   "metadata": {},
   "source": [
    "\n",
    "# Implementación:\n",
    "1. Recopilación de datos:\n",
    "Utiliza la API de Spotify para recopilar datos sobre las características de las canciones. Puedes usar la biblioteca spotipy para Python.\n",
    "Realiza scraping en la página de Billboard para obtener datos sobre el rendimiento de las canciones en las listas de éxitos."
   ]
  },
  {
   "cell_type": "code",
   "execution_count": 5,
   "metadata": {},
   "outputs": [
    {
     "name": "stdout",
     "output_type": "stream",
     "text": [
      "                 track_id   track_name            artist_name  popularity  \\\n",
      "0  1G391cbiT3v3Cywg8T7DM1  Scar Tissue  Red Hot Chili Peppers          83   \n",
      "\n",
      "   danceability  energy  key  loudness  mode  speechiness  acousticness  \\\n",
      "0         0.595   0.717    0    -4.803     1       0.0295        0.0779   \n",
      "\n",
      "   instrumentalness  liveness  valence   tempo  \n",
      "0           0.00274     0.108    0.547  88.969  \n"
     ]
    }
   ],
   "source": [
    "import spotipy\n",
    "from spotipy.oauth2 import SpotifyClientCredentials\n",
    "import pandas as pd\n",
    "\n",
    "# Credenciales de la API de Spotify\n",
    "client_id = '3fc2f3c071d8480b96aa379242a07502'\n",
    "client_secret = 'b838c1a11677441eb4a633bda27b9873'\n",
    "\n",
    "\n",
    "# Inicialización de la API de Spotify\n",
    "client_credentials_manager = SpotifyClientCredentials(client_id=client_id, client_secret=client_secret)\n",
    "sp = spotipy.Spotify(client_credentials_manager=client_credentials_manager)\n",
    "\n",
    "# Obtener datos de una canción (ejemplo)\n",
    "def get_track_features(track_id):\n",
    "    track_info = sp.track(track_id)\n",
    "    features = sp.audio_features(track_id)[0]\n",
    "    return {\n",
    "        'track_id': track_info['id'],\n",
    "        'track_name': track_info['name'],\n",
    "        'artist_name': track_info['artists'][0]['name'],\n",
    "        'popularity': track_info['popularity'],\n",
    "        'danceability': features['danceability'],\n",
    "        'energy': features['energy'],\n",
    "        'key': features['key'],\n",
    "        'loudness': features['loudness'],\n",
    "        'mode': features['mode'],\n",
    "        'speechiness': features['speechiness'],\n",
    "        'acousticness': features['acousticness'],\n",
    "        'instrumentalness': features['instrumentalness'],\n",
    "        'liveness': features['liveness'],\n",
    "        'valence': features['valence'],\n",
    "        'tempo': features['tempo']\n",
    "    }\n",
    "\n",
    "# Lista de IDs de canciones de ejemplo\n",
    "track_ids = ['1G391cbiT3v3Cywg8T7DM1']\n",
    "\n",
    "# Obtener datos de ejemplo\n",
    "tracks_data = [get_track_features(track_id) for track_id in track_ids]\n",
    "\n",
    "# Convertir a DataFrame de pandas\n",
    "df_spotify = pd.DataFrame(tracks_data)\n",
    "print(df_spotify)\n"
   ]
  },
  {
   "cell_type": "markdown",
   "metadata": {},
   "source": [
    "2. Procesamiento y Análisis de Datos:"
   ]
  },
  {
   "cell_type": "code",
   "execution_count": 10,
   "metadata": {},
   "outputs": [
    {
     "name": "stdout",
     "output_type": "stream",
     "text": [
      "Posición en la lista de Billboard para \"scar tissue\" de red hot chili peppers: Error al conectar con Billboard.\n"
     ]
    }
   ],
   "source": [
    "import requests\n",
    "from bs4 import BeautifulSoup\n",
    "\n",
    "def get_billboard_rank(artist, song):\n",
    "    # Formatear el nombre del artista y la canción para la URL\n",
    "    formatted_artist = artist.replace(' ', '-')\n",
    "    formatted_song = song.replace(' ', '-')\n",
    "\n",
    "    # URL de Billboard\n",
    "    url = f'https://www.billboard.com/music/{formatted_artist}/chart-history/{formatted_song}'\n",
    "\n",
    "    # Realizar la solicitud HTTP\n",
    "    response = requests.get(url)\n",
    "    if response.status_code == 200:\n",
    "        # Parsear el contenido HTML\n",
    "        soup = BeautifulSoup(response.content, 'html.parser')\n",
    "        \n",
    "        # Encontrar la posición en la lista de Billboard\n",
    "        rank_element = soup.find('div', class_='chart-list-item__rank')\n",
    "        if rank_element:\n",
    "            rank = rank_element.get_text().strip()\n",
    "            return rank\n",
    "        else:\n",
    "            return 'No se encontraron datos en Billboard para esta canción.'\n",
    "    else:\n",
    "        return 'Error al conectar con Billboard.'\n",
    "\n",
    "# Obtener la posición en la lista de Billboard para la canción \"Scar Tissue\" de Red Hot Chili \n",
    "# https://www.billboard.com/music/red-hot-chili-peppers/chart-history/scar-tissue\n",
    "artist = \"red hot chili peppers\"\n",
    "song = \"scar tissue\"\n",
    "billboard_rank = get_billboard_rank(artist, song)\n",
    "print(f'Posición en la lista de Billboard para \"{song}\" de {artist}: {billboard_rank}')\n",
    "\n",
    "\n",
    "# # Combinar datos de Spotify con datos de scraping\n",
    "# # (En este ejemplo, vamos a usar datos simulados)\n",
    "\n",
    "# # Simulación de datos de scraping (posición en las listas de Billboard)\n",
    "# billboard_data = {\n",
    "#     'track_id': ['1G391cbiT3v3Cywg8T7DM1'],\n",
    "#     'billboard_rank': [1]\n",
    "# }\n",
    "\n",
    "# df_billboard = pd.DataFrame(billboard_data)\n",
    "\n",
    "# # Combinar los dos dataframes\n",
    "# df_combined = pd.merge(df_spotify, df_billboard, on='track_id', how='left')\n",
    "\n",
    "# # Análisis exploratorio de datos\n",
    "# print(df_combined.describe())\n",
    "\n",
    "# # Limpieza y preparación de datos (tratamiento de valores nulos, etc.)\n",
    "# # En este caso, no hay valores nulos para tratar.\n"
   ]
  },
  {
   "cell_type": "markdown",
   "metadata": {},
   "source": [
    "3. Modelado y Predicción:"
   ]
  },
  {
   "cell_type": "code",
   "execution_count": 4,
   "metadata": {},
   "outputs": [
    {
     "name": "stdout",
     "output_type": "stream",
     "text": [
      "Accuracy: 0.0\n",
      "\n",
      "Classification Report:\n",
      "              precision    recall  f1-score   support\n",
      "\n",
      "           0       0.00      0.00      0.00       0.0\n",
      "           1       0.00      0.00      0.00       1.0\n",
      "\n",
      "    accuracy                           0.00       1.0\n",
      "   macro avg       0.00      0.00      0.00       1.0\n",
      "weighted avg       0.00      0.00      0.00       1.0\n",
      "\n"
     ]
    },
    {
     "name": "stderr",
     "output_type": "stream",
     "text": [
      "C:\\Users\\bruno\\AppData\\Local\\Packages\\PythonSoftwareFoundation.Python.3.11_qbz5n2kfra8p0\\LocalCache\\local-packages\\Python311\\site-packages\\sklearn\\metrics\\_classification.py:1509: UndefinedMetricWarning: Precision is ill-defined and being set to 0.0 in labels with no predicted samples. Use `zero_division` parameter to control this behavior.\n",
      "  _warn_prf(average, modifier, f\"{metric.capitalize()} is\", len(result))\n",
      "C:\\Users\\bruno\\AppData\\Local\\Packages\\PythonSoftwareFoundation.Python.3.11_qbz5n2kfra8p0\\LocalCache\\local-packages\\Python311\\site-packages\\sklearn\\metrics\\_classification.py:1509: UndefinedMetricWarning: Recall is ill-defined and being set to 0.0 in labels with no true samples. Use `zero_division` parameter to control this behavior.\n",
      "  _warn_prf(average, modifier, f\"{metric.capitalize()} is\", len(result))\n",
      "C:\\Users\\bruno\\AppData\\Local\\Packages\\PythonSoftwareFoundation.Python.3.11_qbz5n2kfra8p0\\LocalCache\\local-packages\\Python311\\site-packages\\sklearn\\metrics\\_classification.py:1509: UndefinedMetricWarning: Precision is ill-defined and being set to 0.0 in labels with no predicted samples. Use `zero_division` parameter to control this behavior.\n",
      "  _warn_prf(average, modifier, f\"{metric.capitalize()} is\", len(result))\n",
      "C:\\Users\\bruno\\AppData\\Local\\Packages\\PythonSoftwareFoundation.Python.3.11_qbz5n2kfra8p0\\LocalCache\\local-packages\\Python311\\site-packages\\sklearn\\metrics\\_classification.py:1509: UndefinedMetricWarning: Recall is ill-defined and being set to 0.0 in labels with no true samples. Use `zero_division` parameter to control this behavior.\n",
      "  _warn_prf(average, modifier, f\"{metric.capitalize()} is\", len(result))\n",
      "C:\\Users\\bruno\\AppData\\Local\\Packages\\PythonSoftwareFoundation.Python.3.11_qbz5n2kfra8p0\\LocalCache\\local-packages\\Python311\\site-packages\\sklearn\\metrics\\_classification.py:1509: UndefinedMetricWarning: Precision is ill-defined and being set to 0.0 in labels with no predicted samples. Use `zero_division` parameter to control this behavior.\n",
      "  _warn_prf(average, modifier, f\"{metric.capitalize()} is\", len(result))\n",
      "C:\\Users\\bruno\\AppData\\Local\\Packages\\PythonSoftwareFoundation.Python.3.11_qbz5n2kfra8p0\\LocalCache\\local-packages\\Python311\\site-packages\\sklearn\\metrics\\_classification.py:1509: UndefinedMetricWarning: Recall is ill-defined and being set to 0.0 in labels with no true samples. Use `zero_division` parameter to control this behavior.\n",
      "  _warn_prf(average, modifier, f\"{metric.capitalize()} is\", len(result))\n"
     ]
    }
   ],
   "source": [
    "from sklearn.model_selection import train_test_split\n",
    "from sklearn.ensemble import RandomForestClassifier\n",
    "from sklearn.metrics import accuracy_score, classification_report\n",
    "\n",
    "# Dividir los datos en conjunto de entrenamiento y prueba\n",
    "X = df_combined[['popularity', 'danceability', 'energy', 'key', 'loudness', 'mode', 'speechiness', 'acousticness',\n",
    "                 'instrumentalness', 'liveness', 'valence', 'tempo']]\n",
    "y = df_combined['billboard_rank'].apply(lambda x: 1 if x <= 10 else 0)  # Éxito: Posición en el top 10 de Billboard\n",
    "\n",
    "X_train, X_test, y_train, y_test = train_test_split(X, y, test_size=0.2, random_state=42)\n",
    "\n",
    "# Inicializar y entrenar el modelo de Bosques Aleatorios\n",
    "rf_model = RandomForestClassifier(n_estimators=100, random_state=42)\n",
    "rf_model.fit(X_train, y_train)\n",
    "\n",
    "# Predicción\n",
    "y_pred = rf_model.predict(X_test)\n",
    "\n",
    "# Evaluación del modelo\n",
    "print(\"Accuracy:\", accuracy_score(y_test, y_pred))\n",
    "print(\"\\nClassification Report:\")\n",
    "print(classification_report(y_test, y_pred))\n"
   ]
  }
 ],
 "metadata": {
  "kernelspec": {
   "display_name": "Python 3",
   "language": "python",
   "name": "python3"
  },
  "language_info": {
   "codemirror_mode": {
    "name": "ipython",
    "version": 3
   },
   "file_extension": ".py",
   "mimetype": "text/x-python",
   "name": "python",
   "nbconvert_exporter": "python",
   "pygments_lexer": "ipython3",
   "version": "3.11.9"
  }
 },
 "nbformat": 4,
 "nbformat_minor": 2
}
