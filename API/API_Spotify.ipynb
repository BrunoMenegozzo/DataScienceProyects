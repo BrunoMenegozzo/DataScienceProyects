{
  "cells": [
    {
      "cell_type": "markdown",
      "metadata": {
        "id": "HIIDP4grbrX6"
      },
      "source": [
        "# API Spotify\n",
        "\n",
        "A modo de ejemplo de obtener información a través de APIs vamos a usar la de Spotify.\n",
        "\n",
        "El universo de APIs es bastante grande, por lo que puede haber varios detalles propios de cada una que no vamos a poder cubrir. Sin embargo, hay ciertas cosas que vamos a ver aplicadas aquí que van a ser muy similares en otras aplicaciones y por lo tanto se puede ver a grandes rasgos cómo funciona una API."
      ]
    },
    {
      "cell_type": "code",
      "execution_count": 8,
      "metadata": {
        "id": "fo8LbqJEmDdN"
      },
      "outputs": [],
      "source": [
        "# Importamos la librería requests para hacer peticiones a la API\n",
        "# y json para manipular ese tipo de datos\n",
        "import requests\n",
        "import json"
      ]
    },
    {
      "cell_type": "markdown",
      "metadata": {
        "id": "No9YxcW9dBUM"
      },
      "source": [
        "### Requisitos preliminares para usar la API de Spotify\n",
        "\n",
        "Estos son los pasos que vamos a seguir para obtener las claves que nos van a permitir interactuar con la API. Es requisito tener una cuenta (gratis o premium) en la plataforma. Los pasos son bastante sencillos:\n",
        "\n",
        "- Ir a https://developer.spotify.com/dashboard/applications y loggearse.\n",
        "\n",
        "Este punto se puede generalizar: para familiarizarse con las APIs hay que buscar la sección de desarrolladores (*developers*) de las distintas plataformas. En general, tienen una guía de cómo arrancar.\n",
        "\n",
        "- Dentro del *Dashboard*, creamos una nueva aplicación. Ahí nos va a pedir que le demos un nombre y una descripción.\n",
        "\n",
        "En muchos lados vamos a hacer justamente esto: lo que estaríamos creando es una aplicación dentro de la plataforma. Esta aplicación va a tener distintos permisos y claves para ejecutarlos.\n",
        "\n",
        "- Dentro de la aplicación vamos a obtener un primer conjunto de identificadores y claves. En este caso obtenemos el *client-id* y el *client-secret* (clickear donde dice *show client-secret*).\n",
        "\n",
        "Como dijimos antes, la creación de la aplicación va a venir con un conjunto de claves. A veces estas no son las únicas que vamos a necesitar y vamos a tener que pedir otras (como el *bearer token* que vamos a pedir luego). La forma en la cual se obtienen más claves depende de cada plataforma.\n",
        "\n",
        "Por último, otra cosa general que tenemos que hacer siempre es familiarizarnos con la documentación. Muchas veces esta no es fácil de leer y hay que tener un poco de paciencia y mucha prueba y error. La documentación de la API de Spotify está [aquí](https://developer.spotify.com/documentation/web-api/).\n"
      ]
    },
    {
      "cell_type": "markdown",
      "metadata": {
        "id": "labC7KlWgEu4"
      },
      "source": [
        "#### Primeros pasos: generación del bearer token\n",
        "\n",
        "Como mencionamos, las claves que vienen con la app no son las únicas que vamos a tener que usar. Para usar la API de Spotify vamos a tener que solicitarle una más que se denomina *bearer token*. Se hace de la siguiente manera, usando la librería *requests* para hacer un *post* con las claves de la aplicación:"
      ]
    },
    {
      "cell_type": "code",
      "execution_count": 9,
      "metadata": {
        "id": "dMimW6kFaJF5"
      },
      "outputs": [],
      "source": [
        "# Claves obtenidas de la app. Estas varían para cada aplicación que crean.\n",
        "# En particular, la aplicación va a ser borrada pronto, con lo cual van a tener\n",
        "# que crear sus propias claves\n",
        "CLIENT_ID = '3fc2f3c071d8480b96aa379242a07502'\n",
        "CLIENT_SECRET = 'b838c1a11677441eb4a633bda27b9873'\n",
        "\n",
        "# POST donde le pasamos las clave de la app\n",
        "response = requests.post('https://accounts.spotify.com/api/token', data = {'grant_type': 'client_credentials', 'client_id': CLIENT_ID, 'client_secret': CLIENT_SECRET})"
      ]
    },
    {
      "cell_type": "markdown",
      "metadata": {
        "id": "tzsSDtrA_ari"
      },
      "source": [
        "Podemos ver el status_code a ver si el request fue exitoso o bien hubo algún error o warning:"
      ]
    },
    {
      "cell_type": "code",
      "execution_count": 10,
      "metadata": {
        "colab": {
          "base_uri": "https://localhost:8080/"
        },
        "id": "a-4BxaQgs3_F",
        "outputId": "cda8a977-ad0f-431d-ea29-86bbea5f7991"
      },
      "outputs": [
        {
          "name": "stdout",
          "output_type": "stream",
          "text": [
            "200\n"
          ]
        }
      ],
      "source": [
        "# Code del response\n",
        "print(response.status_code)"
      ]
    },
    {
      "cell_type": "markdown",
      "metadata": {
        "id": "D-LwkGJXhNrv"
      },
      "source": [
        "Veamos qué nos devolvió el response en formato json:"
      ]
    },
    {
      "cell_type": "code",
      "execution_count": 11,
      "metadata": {
        "colab": {
          "base_uri": "https://localhost:8080/"
        },
        "id": "ugRJ61PWhROQ",
        "outputId": "a05ad320-ca16-4f24-b3da-1994254c881c"
      },
      "outputs": [
        {
          "name": "stdout",
          "output_type": "stream",
          "text": [
            "{'access_token': 'BQD_dNqUzn2umZfeBK6CJEhRzaE-l6SsxF5OO08DFjWRprzDbdCDmmmi1Ok3Jss_spsI2kkBkI1UMEk8ahKWd3AO3qMCcfQmsQr25rUO8rZXMUppP_I', 'token_type': 'Bearer', 'expires_in': 3600}\n"
          ]
        }
      ],
      "source": [
        "print(response.json())"
      ]
    },
    {
      "cell_type": "markdown",
      "metadata": {
        "id": "I0KMP1ZmhckE"
      },
      "source": [
        "Aquí vemos que el nos devolvió un *token* y nos dice que precisamente es el *bearer token*. Guardamos estos datos para usarlos después en cada petición a la API. Con este *token* ya estamos!"
      ]
    },
    {
      "cell_type": "code",
      "execution_count": 12,
      "metadata": {
        "id": "i0FyZCYHamKv"
      },
      "outputs": [],
      "source": [
        "# Guardamos el bearer token para usarlo en las peticiones de la API\n",
        "access_token = response.json()['access_token']"
      ]
    },
    {
      "cell_type": "markdown",
      "metadata": {
        "id": "Ql_AMn1wMe8p"
      },
      "source": [
        "Creamos un diccionario con las credenciales que luego le vamos a pasar al requests."
      ]
    },
    {
      "cell_type": "code",
      "execution_count": 14,
      "metadata": {
        "id": "029qDZ3wMa5B"
      },
      "outputs": [],
      "source": [
        "# Acá le pasamos el token que obtuvimos antes. Lo demás son algunas cosas generales que suelen ir\n",
        "headers = {'Authorization': 'Bearer {}'.format(access_token), 'Accept': 'application/json', 'Content-Type': 'application/json'}"
      ]
    },
    {
      "cell_type": "markdown",
      "metadata": {
        "id": "b3jglvZOh71y"
      },
      "source": [
        "### Petición de datos\n",
        "\n",
        "Listo, acá arranca lo divertido! Vamos a pedirle datos a la API! Esto lo vamos a hacer con método *get* de *requests*. En todos los casos le vamos a pasar el *access_token* como un encabezado y los parámetros necesarios para hacer la petición. Lo único que tenemos que tener presente es cómo se llaman los puntos a los que les vamos a pedir la información. Esto nuevamente lo tienen que sacar de la documentación, en particular de [acá](https://developer.spotify.com/documentation/web-api/reference/)."
      ]
    },
    {
      "cell_type": "markdown",
      "metadata": {
        "id": "KXDN7mo2lsdI"
      },
      "source": [
        "#### Datos de una canción\n",
        "\n",
        "Veamos cómo pedirle datos de una canción cuyo *id* conocemos."
      ]
    },
    {
      "cell_type": "code",
      "execution_count": 15,
      "metadata": {
        "colab": {
          "base_uri": "https://localhost:8080/"
        },
        "id": "w3JtKbVZlxfR",
        "outputId": "e0b41cdd-d3e2-4a45-860f-a4789cc1e4f5"
      },
      "outputs": [
        {
          "name": "stdout",
          "output_type": "stream",
          "text": [
            "{\n",
            "    \"album\": {\n",
            "        \"album_type\": \"album\",\n",
            "        \"artists\": [\n",
            "            {\n",
            "                \"external_urls\": {\n",
            "                    \"spotify\": \"https://open.spotify.com/artist/3jO7X5KupvwmWTHGtHgcgo\"\n",
            "                },\n",
            "                \"href\": \"https://api.spotify.com/v1/artists/3jO7X5KupvwmWTHGtHgcgo\",\n",
            "                \"id\": \"3jO7X5KupvwmWTHGtHgcgo\",\n",
            "                \"name\": \"Charly Garc\\u00eda\",\n",
            "                \"type\": \"artist\",\n",
            "                \"uri\": \"spotify:artist:3jO7X5KupvwmWTHGtHgcgo\"\n",
            "            }\n",
            "        ],\n",
            "        \"available_markets\": [\n",
            "            \"AR\",\n",
            "            \"AU\",\n",
            "            \"AT\",\n",
            "            \"BE\",\n",
            "            \"BO\",\n",
            "            \"BR\",\n",
            "            \"BG\",\n",
            "            \"CA\",\n",
            "            \"CL\",\n",
            "            \"CO\",\n",
            "            \"CR\",\n",
            "            \"CY\",\n",
            "            \"CZ\",\n",
            "            \"DK\",\n",
            "            \"DO\",\n",
            "            \"DE\",\n",
            "            \"EC\",\n",
            "            \"EE\",\n",
            "            \"SV\",\n",
            "            \"FI\",\n",
            "            \"FR\",\n",
            "            \"GR\",\n",
            "            \"GT\",\n",
            "            \"HN\",\n",
            "            \"HK\",\n",
            "            \"HU\",\n",
            "            \"IS\",\n",
            "            \"IE\",\n",
            "            \"IT\",\n",
            "            \"LV\",\n",
            "            \"LT\",\n",
            "            \"LU\",\n",
            "            \"MY\",\n",
            "            \"MT\",\n",
            "            \"MX\",\n",
            "            \"NL\",\n",
            "            \"NZ\",\n",
            "            \"NI\",\n",
            "            \"NO\",\n",
            "            \"PA\",\n",
            "            \"PY\",\n",
            "            \"PE\",\n",
            "            \"PH\",\n",
            "            \"PL\",\n",
            "            \"PT\",\n",
            "            \"SG\",\n",
            "            \"SK\",\n",
            "            \"ES\",\n",
            "            \"SE\",\n",
            "            \"CH\",\n",
            "            \"TW\",\n",
            "            \"TR\",\n",
            "            \"UY\",\n",
            "            \"US\",\n",
            "            \"GB\",\n",
            "            \"AD\",\n",
            "            \"LI\",\n",
            "            \"MC\",\n",
            "            \"ID\",\n",
            "            \"JP\",\n",
            "            \"TH\",\n",
            "            \"VN\",\n",
            "            \"RO\",\n",
            "            \"IL\",\n",
            "            \"ZA\",\n",
            "            \"SA\",\n",
            "            \"AE\",\n",
            "            \"BH\",\n",
            "            \"QA\",\n",
            "            \"OM\",\n",
            "            \"KW\",\n",
            "            \"EG\",\n",
            "            \"MA\",\n",
            "            \"DZ\",\n",
            "            \"TN\",\n",
            "            \"LB\",\n",
            "            \"JO\",\n",
            "            \"PS\",\n",
            "            \"IN\",\n",
            "            \"BY\",\n",
            "            \"KZ\",\n",
            "            \"MD\",\n",
            "            \"UA\",\n",
            "            \"AL\",\n",
            "            \"BA\",\n",
            "            \"HR\",\n",
            "            \"ME\",\n",
            "            \"MK\",\n",
            "            \"RS\",\n",
            "            \"SI\",\n",
            "            \"KR\",\n",
            "            \"BD\",\n",
            "            \"PK\",\n",
            "            \"LK\",\n",
            "            \"GH\",\n",
            "            \"KE\",\n",
            "            \"NG\",\n",
            "            \"TZ\",\n",
            "            \"UG\",\n",
            "            \"AG\",\n",
            "            \"AM\",\n",
            "            \"BS\",\n",
            "            \"BB\",\n",
            "            \"BZ\",\n",
            "            \"BT\",\n",
            "            \"BW\",\n",
            "            \"BF\",\n",
            "            \"CV\",\n",
            "            \"CW\",\n",
            "            \"DM\",\n",
            "            \"FJ\",\n",
            "            \"GM\",\n",
            "            \"GE\",\n",
            "            \"GD\",\n",
            "            \"GW\",\n",
            "            \"GY\",\n",
            "            \"HT\",\n",
            "            \"JM\",\n",
            "            \"KI\",\n",
            "            \"LS\",\n",
            "            \"LR\",\n",
            "            \"MW\",\n",
            "            \"MV\",\n",
            "            \"ML\",\n",
            "            \"MH\",\n",
            "            \"FM\",\n",
            "            \"NA\",\n",
            "            \"NR\",\n",
            "            \"NE\",\n",
            "            \"PW\",\n",
            "            \"PG\",\n",
            "            \"WS\",\n",
            "            \"SM\",\n",
            "            \"ST\",\n",
            "            \"SN\",\n",
            "            \"SC\",\n",
            "            \"SL\",\n",
            "            \"SB\",\n",
            "            \"KN\",\n",
            "            \"LC\",\n",
            "            \"VC\",\n",
            "            \"SR\",\n",
            "            \"TL\",\n",
            "            \"TO\",\n",
            "            \"TT\",\n",
            "            \"TV\",\n",
            "            \"VU\",\n",
            "            \"AZ\",\n",
            "            \"BN\",\n",
            "            \"BI\",\n",
            "            \"KH\",\n",
            "            \"CM\",\n",
            "            \"TD\",\n",
            "            \"KM\",\n",
            "            \"GQ\",\n",
            "            \"SZ\",\n",
            "            \"GA\",\n",
            "            \"GN\",\n",
            "            \"KG\",\n",
            "            \"LA\",\n",
            "            \"MO\",\n",
            "            \"MR\",\n",
            "            \"MN\",\n",
            "            \"NP\",\n",
            "            \"RW\",\n",
            "            \"TG\",\n",
            "            \"UZ\",\n",
            "            \"ZW\",\n",
            "            \"BJ\",\n",
            "            \"MG\",\n",
            "            \"MU\",\n",
            "            \"MZ\",\n",
            "            \"AO\",\n",
            "            \"CI\",\n",
            "            \"DJ\",\n",
            "            \"ZM\",\n",
            "            \"CD\",\n",
            "            \"CG\",\n",
            "            \"IQ\",\n",
            "            \"LY\",\n",
            "            \"TJ\",\n",
            "            \"VE\",\n",
            "            \"ET\",\n",
            "            \"XK\"\n",
            "        ],\n",
            "        \"external_urls\": {\n",
            "            \"spotify\": \"https://open.spotify.com/album/17utekM9a95MchXbkbh47k\"\n",
            "        },\n",
            "        \"href\": \"https://api.spotify.com/v1/albums/17utekM9a95MchXbkbh47k\",\n",
            "        \"id\": \"17utekM9a95MchXbkbh47k\",\n",
            "        \"images\": [\n",
            "            {\n",
            "                \"height\": 640,\n",
            "                \"url\": \"https://i.scdn.co/image/ab67616d0000b273a89f53c13537b933a43d2600\",\n",
            "                \"width\": 640\n",
            "            },\n",
            "            {\n",
            "                \"height\": 300,\n",
            "                \"url\": \"https://i.scdn.co/image/ab67616d00001e02a89f53c13537b933a43d2600\",\n",
            "                \"width\": 300\n",
            "            },\n",
            "            {\n",
            "                \"height\": 64,\n",
            "                \"url\": \"https://i.scdn.co/image/ab67616d00004851a89f53c13537b933a43d2600\",\n",
            "                \"width\": 64\n",
            "            }\n",
            "        ],\n",
            "        \"name\": \"Piano Bar\",\n",
            "        \"release_date\": \"1984-01-01\",\n",
            "        \"release_date_precision\": \"day\",\n",
            "        \"total_tracks\": 11,\n",
            "        \"type\": \"album\",\n",
            "        \"uri\": \"spotify:album:17utekM9a95MchXbkbh47k\"\n",
            "    },\n",
            "    \"artists\": [\n",
            "        {\n",
            "            \"external_urls\": {\n",
            "                \"spotify\": \"https://open.spotify.com/artist/3jO7X5KupvwmWTHGtHgcgo\"\n",
            "            },\n",
            "            \"href\": \"https://api.spotify.com/v1/artists/3jO7X5KupvwmWTHGtHgcgo\",\n",
            "            \"id\": \"3jO7X5KupvwmWTHGtHgcgo\",\n",
            "            \"name\": \"Charly Garc\\u00eda\",\n",
            "            \"type\": \"artist\",\n",
            "            \"uri\": \"spotify:artist:3jO7X5KupvwmWTHGtHgcgo\"\n",
            "        }\n",
            "    ],\n",
            "    \"available_markets\": [\n",
            "        \"AR\",\n",
            "        \"AU\",\n",
            "        \"AT\",\n",
            "        \"BE\",\n",
            "        \"BO\",\n",
            "        \"BR\",\n",
            "        \"BG\",\n",
            "        \"CA\",\n",
            "        \"CL\",\n",
            "        \"CO\",\n",
            "        \"CR\",\n",
            "        \"CY\",\n",
            "        \"CZ\",\n",
            "        \"DK\",\n",
            "        \"DO\",\n",
            "        \"DE\",\n",
            "        \"EC\",\n",
            "        \"EE\",\n",
            "        \"SV\",\n",
            "        \"FI\",\n",
            "        \"FR\",\n",
            "        \"GR\",\n",
            "        \"GT\",\n",
            "        \"HN\",\n",
            "        \"HK\",\n",
            "        \"HU\",\n",
            "        \"IS\",\n",
            "        \"IE\",\n",
            "        \"IT\",\n",
            "        \"LV\",\n",
            "        \"LT\",\n",
            "        \"LU\",\n",
            "        \"MY\",\n",
            "        \"MT\",\n",
            "        \"MX\",\n",
            "        \"NL\",\n",
            "        \"NZ\",\n",
            "        \"NI\",\n",
            "        \"NO\",\n",
            "        \"PA\",\n",
            "        \"PY\",\n",
            "        \"PE\",\n",
            "        \"PH\",\n",
            "        \"PL\",\n",
            "        \"PT\",\n",
            "        \"SG\",\n",
            "        \"SK\",\n",
            "        \"ES\",\n",
            "        \"SE\",\n",
            "        \"CH\",\n",
            "        \"TW\",\n",
            "        \"TR\",\n",
            "        \"UY\",\n",
            "        \"US\",\n",
            "        \"GB\",\n",
            "        \"AD\",\n",
            "        \"LI\",\n",
            "        \"MC\",\n",
            "        \"ID\",\n",
            "        \"JP\",\n",
            "        \"TH\",\n",
            "        \"VN\",\n",
            "        \"RO\",\n",
            "        \"IL\",\n",
            "        \"ZA\",\n",
            "        \"SA\",\n",
            "        \"AE\",\n",
            "        \"BH\",\n",
            "        \"QA\",\n",
            "        \"OM\",\n",
            "        \"KW\",\n",
            "        \"EG\",\n",
            "        \"MA\",\n",
            "        \"DZ\",\n",
            "        \"TN\",\n",
            "        \"LB\",\n",
            "        \"JO\",\n",
            "        \"PS\",\n",
            "        \"IN\",\n",
            "        \"BY\",\n",
            "        \"KZ\",\n",
            "        \"MD\",\n",
            "        \"UA\",\n",
            "        \"AL\",\n",
            "        \"BA\",\n",
            "        \"HR\",\n",
            "        \"ME\",\n",
            "        \"MK\",\n",
            "        \"RS\",\n",
            "        \"SI\",\n",
            "        \"KR\",\n",
            "        \"BD\",\n",
            "        \"PK\",\n",
            "        \"LK\",\n",
            "        \"GH\",\n",
            "        \"KE\",\n",
            "        \"NG\",\n",
            "        \"TZ\",\n",
            "        \"UG\",\n",
            "        \"AG\",\n",
            "        \"AM\",\n",
            "        \"BS\",\n",
            "        \"BB\",\n",
            "        \"BZ\",\n",
            "        \"BT\",\n",
            "        \"BW\",\n",
            "        \"BF\",\n",
            "        \"CV\",\n",
            "        \"CW\",\n",
            "        \"DM\",\n",
            "        \"FJ\",\n",
            "        \"GM\",\n",
            "        \"GE\",\n",
            "        \"GD\",\n",
            "        \"GW\",\n",
            "        \"GY\",\n",
            "        \"HT\",\n",
            "        \"JM\",\n",
            "        \"KI\",\n",
            "        \"LS\",\n",
            "        \"LR\",\n",
            "        \"MW\",\n",
            "        \"MV\",\n",
            "        \"ML\",\n",
            "        \"MH\",\n",
            "        \"FM\",\n",
            "        \"NA\",\n",
            "        \"NR\",\n",
            "        \"NE\",\n",
            "        \"PW\",\n",
            "        \"PG\",\n",
            "        \"WS\",\n",
            "        \"SM\",\n",
            "        \"ST\",\n",
            "        \"SN\",\n",
            "        \"SC\",\n",
            "        \"SL\",\n",
            "        \"SB\",\n",
            "        \"KN\",\n",
            "        \"LC\",\n",
            "        \"VC\",\n",
            "        \"SR\",\n",
            "        \"TL\",\n",
            "        \"TO\",\n",
            "        \"TT\",\n",
            "        \"TV\",\n",
            "        \"VU\",\n",
            "        \"AZ\",\n",
            "        \"BN\",\n",
            "        \"BI\",\n",
            "        \"KH\",\n",
            "        \"CM\",\n",
            "        \"TD\",\n",
            "        \"KM\",\n",
            "        \"GQ\",\n",
            "        \"SZ\",\n",
            "        \"GA\",\n",
            "        \"GN\",\n",
            "        \"KG\",\n",
            "        \"LA\",\n",
            "        \"MO\",\n",
            "        \"MR\",\n",
            "        \"MN\",\n",
            "        \"NP\",\n",
            "        \"RW\",\n",
            "        \"TG\",\n",
            "        \"UZ\",\n",
            "        \"ZW\",\n",
            "        \"BJ\",\n",
            "        \"MG\",\n",
            "        \"MU\",\n",
            "        \"MZ\",\n",
            "        \"AO\",\n",
            "        \"CI\",\n",
            "        \"DJ\",\n",
            "        \"ZM\",\n",
            "        \"CD\",\n",
            "        \"CG\",\n",
            "        \"IQ\",\n",
            "        \"LY\",\n",
            "        \"TJ\",\n",
            "        \"VE\",\n",
            "        \"ET\",\n",
            "        \"XK\"\n",
            "    ],\n",
            "    \"disc_number\": 1,\n",
            "    \"duration_ms\": 164360,\n",
            "    \"explicit\": false,\n",
            "    \"external_ids\": {\n",
            "        \"isrc\": \"ARF140300027\"\n",
            "    },\n",
            "    \"external_urls\": {\n",
            "        \"spotify\": \"https://open.spotify.com/track/2MXqrO1RBfek6RoijghYYp\"\n",
            "    },\n",
            "    \"href\": \"https://api.spotify.com/v1/tracks/2MXqrO1RBfek6RoijghYYp\",\n",
            "    \"id\": \"2MXqrO1RBfek6RoijghYYp\",\n",
            "    \"is_local\": false,\n",
            "    \"name\": \"Promesas Sobre El Bidet\",\n",
            "    \"popularity\": 64,\n",
            "    \"preview_url\": null,\n",
            "    \"track_number\": 2,\n",
            "    \"type\": \"track\",\n",
            "    \"uri\": \"spotify:track:2MXqrO1RBfek6RoijghYYp\"\n",
            "}\n"
          ]
        }
      ],
      "source": [
        "# Este id corresponde a \"Promesas sobre el bidet - Charly García\"\n",
        "# https://open.spotify.com/album/17utekM9a95MchXbkbh47k?highlight=spotify:track:2MXqrO1RBfek6RoijghYYp\n",
        "# Ver que el id del track aparece en la url de la canción\n",
        "track_id = '2MXqrO1RBfek6RoijghYYp'\n",
        "\n",
        "# End point para obtener información de la canción. Esto se saca de la referencia de la documentación\n",
        "url = 'https://api.spotify.com/v1/tracks/{}'.format(track_id)\n",
        "\n",
        "# En este caso no lleva ningún parámetro, el id de la canción va directamente en el url\n",
        "response = requests.get(url, params = {}, headers = headers)\n",
        "\n",
        "# Vemos el json de la respuesta\n",
        "json_data = response.json()\n",
        "\n",
        "# Esto lo devuelve en un formato más fácil de leer\n",
        "print(json.dumps(json_data, indent = 4))"
      ]
    },
    {
      "cell_type": "markdown",
      "metadata": {
        "id": "2sjknN7HmsI5"
      },
      "source": [
        "Vemos que obtenemos varias cosas: además de la información de la canción como la duración y el nombre, tenemos información del disco en qué mercado está, e información del artista."
      ]
    },
    {
      "cell_type": "markdown",
      "metadata": {
        "id": "-idVw_vZjAm8"
      },
      "source": [
        "#### Audio Features\n",
        "\n",
        "Características de las canciones analizadas con algún programa de la plataforma. Esto nos devuelve algunos *features* interesantes. Se hace especificando el *id* de una canción que podemos averiguar de reproducir la canción de Spotify al *end point* que especificamos abajo:"
      ]
    },
    {
      "cell_type": "code",
      "execution_count": 16,
      "metadata": {
        "colab": {
          "base_uri": "https://localhost:8080/"
        },
        "id": "y9fHbsoqaxyi",
        "outputId": "42e0aefa-6237-49b3-ce63-8d0739570f48"
      },
      "outputs": [
        {
          "name": "stdout",
          "output_type": "stream",
          "text": [
            "{\n",
            "    \"danceability\": 0.786,\n",
            "    \"energy\": 0.621,\n",
            "    \"key\": 7,\n",
            "    \"loudness\": -9.805,\n",
            "    \"mode\": 0,\n",
            "    \"speechiness\": 0.0282,\n",
            "    \"acousticness\": 0.576,\n",
            "    \"instrumentalness\": 0.000403,\n",
            "    \"liveness\": 0.123,\n",
            "    \"valence\": 0.54,\n",
            "    \"tempo\": 111.459,\n",
            "    \"type\": \"audio_features\",\n",
            "    \"id\": \"2MXqrO1RBfek6RoijghYYp\",\n",
            "    \"uri\": \"spotify:track:2MXqrO1RBfek6RoijghYYp\",\n",
            "    \"track_href\": \"https://api.spotify.com/v1/tracks/2MXqrO1RBfek6RoijghYYp\",\n",
            "    \"analysis_url\": \"https://api.spotify.com/v1/audio-analysis/2MXqrO1RBfek6RoijghYYp\",\n",
            "    \"duration_ms\": 164360,\n",
            "    \"time_signature\": 4\n",
            "}\n"
          ]
        }
      ],
      "source": [
        "# Este id corresponde a \"Promesas sobre el bidet - Charly García\"\n",
        "# https://open.spotify.com/album/17utekM9a95MchXbkbh47k?highlight=spotify:track:2MXqrO1RBfek6RoijghYYp\n",
        "# Ver que el id del track aparece en la url de la canción\n",
        "track_id = '2MXqrO1RBfek6RoijghYYp'\n",
        "\n",
        "# End point para obtener los audio features. Esto se saca de la referencia de la documentación\n",
        "url = 'https://api.spotify.com/v1/audio-features/{}'.format(track_id)\n",
        "\n",
        "# En este caso no lleva ningún parámetro, el id de la canción va directamente en el url\n",
        "response = requests.get(url, params = {}, headers = headers)\n",
        "\n",
        "# Vemos el json de la respuesta\n",
        "json_data = response.json()\n",
        "\n",
        "# Esto lo devuelve en un formato más fácil de leer\n",
        "print(json.dumps(json_data, indent = 4))"
      ]
    },
    {
      "cell_type": "markdown",
      "metadata": {
        "id": "V278axrjnaeW"
      },
      "source": [
        "#### Búsqueda de un artista\n",
        "\n",
        "Podemos buscar información de un artista. Acá lo hacemos con el *end_point* \"search\"."
      ]
    },
    {
      "cell_type": "code",
      "execution_count": 17,
      "metadata": {
        "colab": {
          "base_uri": "https://localhost:8080/"
        },
        "id": "L-SO6G3ha2zR",
        "outputId": "96927421-69d0-47d0-dfd5-5e3a288559f2"
      },
      "outputs": [
        {
          "name": "stdout",
          "output_type": "stream",
          "text": [
            "{\n",
            "    \"artists\": {\n",
            "        \"href\": \"https://api.spotify.com/v1/search?query=Wos&type=artist&market=AR&offset=0&limit=5\",\n",
            "        \"items\": [\n",
            "            {\n",
            "                \"external_urls\": {\n",
            "                    \"spotify\": \"https://open.spotify.com/artist/5YCc6xS5Gpj3EkaYGdjyNK\"\n",
            "                },\n",
            "                \"followers\": {\n",
            "                    \"href\": null,\n",
            "                    \"total\": 4236660\n",
            "                },\n",
            "                \"genres\": [\n",
            "                    \"argentine indie\",\n",
            "                    \"trap argentino\"\n",
            "                ],\n",
            "                \"href\": \"https://api.spotify.com/v1/artists/5YCc6xS5Gpj3EkaYGdjyNK\",\n",
            "                \"id\": \"5YCc6xS5Gpj3EkaYGdjyNK\",\n",
            "                \"images\": [\n",
            "                    {\n",
            "                        \"height\": 640,\n",
            "                        \"url\": \"https://i.scdn.co/image/ab6761610000e5eb632866253c99e4531985aa1a\",\n",
            "                        \"width\": 640\n",
            "                    },\n",
            "                    {\n",
            "                        \"height\": 320,\n",
            "                        \"url\": \"https://i.scdn.co/image/ab67616100005174632866253c99e4531985aa1a\",\n",
            "                        \"width\": 320\n",
            "                    },\n",
            "                    {\n",
            "                        \"height\": 160,\n",
            "                        \"url\": \"https://i.scdn.co/image/ab6761610000f178632866253c99e4531985aa1a\",\n",
            "                        \"width\": 160\n",
            "                    }\n",
            "                ],\n",
            "                \"name\": \"WOS\",\n",
            "                \"popularity\": 70,\n",
            "                \"type\": \"artist\",\n",
            "                \"uri\": \"spotify:artist:5YCc6xS5Gpj3EkaYGdjyNK\"\n",
            "            },\n",
            "            {\n",
            "                \"external_urls\": {\n",
            "                    \"spotify\": \"https://open.spotify.com/artist/4qhzrgR9Akd5uOM0Cvuosv\"\n",
            "                },\n",
            "                \"followers\": {\n",
            "                    \"href\": null,\n",
            "                    \"total\": 182\n",
            "                },\n",
            "                \"genres\": [],\n",
            "                \"href\": \"https://api.spotify.com/v1/artists/4qhzrgR9Akd5uOM0Cvuosv\",\n",
            "                \"id\": \"4qhzrgR9Akd5uOM0Cvuosv\",\n",
            "                \"images\": [\n",
            "                    {\n",
            "                        \"height\": 640,\n",
            "                        \"url\": \"https://i.scdn.co/image/ab67616d0000b273bd1bc1603fd8d57da48fd1d8\",\n",
            "                        \"width\": 640\n",
            "                    },\n",
            "                    {\n",
            "                        \"height\": 300,\n",
            "                        \"url\": \"https://i.scdn.co/image/ab67616d00001e02bd1bc1603fd8d57da48fd1d8\",\n",
            "                        \"width\": 300\n",
            "                    },\n",
            "                    {\n",
            "                        \"height\": 64,\n",
            "                        \"url\": \"https://i.scdn.co/image/ab67616d00004851bd1bc1603fd8d57da48fd1d8\",\n",
            "                        \"width\": 64\n",
            "                    }\n",
            "                ],\n",
            "                \"name\": \"Wos\",\n",
            "                \"popularity\": 0,\n",
            "                \"type\": \"artist\",\n",
            "                \"uri\": \"spotify:artist:4qhzrgR9Akd5uOM0Cvuosv\"\n",
            "            },\n",
            "            {\n",
            "                \"external_urls\": {\n",
            "                    \"spotify\": \"https://open.spotify.com/artist/4R7xSJpwf9IsrGzUYNpyz0\"\n",
            "                },\n",
            "                \"followers\": {\n",
            "                    \"href\": null,\n",
            "                    \"total\": 35\n",
            "                },\n",
            "                \"genres\": [],\n",
            "                \"href\": \"https://api.spotify.com/v1/artists/4R7xSJpwf9IsrGzUYNpyz0\",\n",
            "                \"id\": \"4R7xSJpwf9IsrGzUYNpyz0\",\n",
            "                \"images\": [\n",
            "                    {\n",
            "                        \"height\": 640,\n",
            "                        \"url\": \"https://i.scdn.co/image/ab67616d0000b273f8575b3569870c4f0fce7ef8\",\n",
            "                        \"width\": 640\n",
            "                    },\n",
            "                    {\n",
            "                        \"height\": 300,\n",
            "                        \"url\": \"https://i.scdn.co/image/ab67616d00001e02f8575b3569870c4f0fce7ef8\",\n",
            "                        \"width\": 300\n",
            "                    },\n",
            "                    {\n",
            "                        \"height\": 64,\n",
            "                        \"url\": \"https://i.scdn.co/image/ab67616d00004851f8575b3569870c4f0fce7ef8\",\n",
            "                        \"width\": 64\n",
            "                    }\n",
            "                ],\n",
            "                \"name\": \"WOS Project\",\n",
            "                \"popularity\": 33,\n",
            "                \"type\": \"artist\",\n",
            "                \"uri\": \"spotify:artist:4R7xSJpwf9IsrGzUYNpyz0\"\n",
            "            },\n",
            "            {\n",
            "                \"external_urls\": {\n",
            "                    \"spotify\": \"https://open.spotify.com/artist/2Z3hX6FBCtTfjx8chQ6Mer\"\n",
            "                },\n",
            "                \"followers\": {\n",
            "                    \"href\": null,\n",
            "                    \"total\": 7426\n",
            "                },\n",
            "                \"genres\": [\n",
            "                    \"rap canario\"\n",
            "                ],\n",
            "                \"href\": \"https://api.spotify.com/v1/artists/2Z3hX6FBCtTfjx8chQ6Mer\",\n",
            "                \"id\": \"2Z3hX6FBCtTfjx8chQ6Mer\",\n",
            "                \"images\": [\n",
            "                    {\n",
            "                        \"height\": 640,\n",
            "                        \"url\": \"https://i.scdn.co/image/ab6761610000e5ebc03bd487587d8930099ec4aa\",\n",
            "                        \"width\": 640\n",
            "                    },\n",
            "                    {\n",
            "                        \"height\": 320,\n",
            "                        \"url\": \"https://i.scdn.co/image/ab67616100005174c03bd487587d8930099ec4aa\",\n",
            "                        \"width\": 320\n",
            "                    },\n",
            "                    {\n",
            "                        \"height\": 160,\n",
            "                        \"url\": \"https://i.scdn.co/image/ab6761610000f178c03bd487587d8930099ec4aa\",\n",
            "                        \"width\": 160\n",
            "                    }\n",
            "                ],\n",
            "                \"name\": \"Wos LasPalmas\",\n",
            "                \"popularity\": 44,\n",
            "                \"type\": \"artist\",\n",
            "                \"uri\": \"spotify:artist:2Z3hX6FBCtTfjx8chQ6Mer\"\n",
            "            },\n",
            "            {\n",
            "                \"external_urls\": {\n",
            "                    \"spotify\": \"https://open.spotify.com/artist/1AL2GKpmRrKXkYIcASuRFa\"\n",
            "                },\n",
            "                \"followers\": {\n",
            "                    \"href\": null,\n",
            "                    \"total\": 11465484\n",
            "                },\n",
            "                \"genres\": [\n",
            "                    \"arrocha\",\n",
            "                    \"forro\",\n",
            "                    \"sertanejo\",\n",
            "                    \"sertanejo universitario\"\n",
            "                ],\n",
            "                \"href\": \"https://api.spotify.com/v1/artists/1AL2GKpmRrKXkYIcASuRFa\",\n",
            "                \"id\": \"1AL2GKpmRrKXkYIcASuRFa\",\n",
            "                \"images\": [\n",
            "                    {\n",
            "                        \"height\": 640,\n",
            "                        \"url\": \"https://i.scdn.co/image/ab6761610000e5eb1c688a305dd383aab75ae246\",\n",
            "                        \"width\": 640\n",
            "                    },\n",
            "                    {\n",
            "                        \"height\": 320,\n",
            "                        \"url\": \"https://i.scdn.co/image/ab676161000051741c688a305dd383aab75ae246\",\n",
            "                        \"width\": 320\n",
            "                    },\n",
            "                    {\n",
            "                        \"height\": 160,\n",
            "                        \"url\": \"https://i.scdn.co/image/ab6761610000f1781c688a305dd383aab75ae246\",\n",
            "                        \"width\": 160\n",
            "                    }\n",
            "                ],\n",
            "                \"name\": \"Wesley Safad\\u00e3o\",\n",
            "                \"popularity\": 70,\n",
            "                \"type\": \"artist\",\n",
            "                \"uri\": \"spotify:artist:1AL2GKpmRrKXkYIcASuRFa\"\n",
            "            }\n",
            "        ],\n",
            "        \"limit\": 5,\n",
            "        \"next\": \"https://api.spotify.com/v1/search?query=Wos&type=artist&market=AR&offset=5&limit=5\",\n",
            "        \"offset\": 0,\n",
            "        \"previous\": null,\n",
            "        \"total\": 11\n",
            "    }\n",
            "}\n"
          ]
        }
      ],
      "source": [
        "# End point para obtener los audio features. Esto se saca de la referencia de la documentación\n",
        "url = 'https://api.spotify.com/v1/search'\n",
        "\n",
        "# Búsqueda. Acá sí hay que pasarselo como parámetros\n",
        "params = {'q': 'Wos', 'type': 'artist', 'market': 'AR', 'limit': '5' }\n",
        "\n",
        "# En este caso no lleva ningún parámetro, el id de la canción va directamente en el url\n",
        "response = requests.get(url, params = params, headers = headers)\n",
        "\n",
        "# Vemos el json de la respuesta\n",
        "json_data = response.json()\n",
        "\n",
        "# Esto lo devuelve en un formato más fácil de leer\n",
        "print(json.dumps(json_data, indent = 4))"
      ]
    },
    {
      "cell_type": "markdown",
      "metadata": {
        "id": "QwXmIUWlp4TX"
      },
      "source": [
        "#### Inspección de los datos\n",
        "\n",
        "Como ven la cantidad de cosas que se pueden hacer son varias. Manipulemos un poco los datos para ver cómo trabajaríamos:"
      ]
    },
    {
      "cell_type": "code",
      "execution_count": 18,
      "metadata": {
        "colab": {
          "base_uri": "https://localhost:8080/"
        },
        "id": "ADa5kZtzodCz",
        "outputId": "1c1c32b7-7dd3-425a-c6f4-8dd2d1e81818"
      },
      "outputs": [
        {
          "name": "stdout",
          "output_type": "stream",
          "text": [
            "<class 'dict'>\n"
          ]
        }
      ],
      "source": [
        "# Tipo de dato del json\n",
        "print(type(json_data))"
      ]
    },
    {
      "cell_type": "code",
      "execution_count": 19,
      "metadata": {
        "colab": {
          "base_uri": "https://localhost:8080/"
        },
        "id": "FDXvsy2BozIE",
        "outputId": "eb785a26-1733-423b-a263-1ec2c8994585"
      },
      "outputs": [
        {
          "name": "stdout",
          "output_type": "stream",
          "text": [
            "dict_keys(['artists'])\n"
          ]
        }
      ],
      "source": [
        "# Keys del diccionario\n",
        "print(json_data.keys())"
      ]
    },
    {
      "cell_type": "code",
      "execution_count": 20,
      "metadata": {
        "colab": {
          "base_uri": "https://localhost:8080/"
        },
        "id": "ij-ORqg7pGH6",
        "outputId": "3097d683-b49f-43f4-8897-2e0aac901dee"
      },
      "outputs": [
        {
          "data": {
            "text/plain": [
              "{'href': 'https://api.spotify.com/v1/search?query=Wos&type=artist&market=AR&offset=0&limit=5',\n",
              " 'items': [{'external_urls': {'spotify': 'https://open.spotify.com/artist/5YCc6xS5Gpj3EkaYGdjyNK'},\n",
              "   'followers': {'href': None, 'total': 4236660},\n",
              "   'genres': ['argentine indie', 'trap argentino'],\n",
              "   'href': 'https://api.spotify.com/v1/artists/5YCc6xS5Gpj3EkaYGdjyNK',\n",
              "   'id': '5YCc6xS5Gpj3EkaYGdjyNK',\n",
              "   'images': [{'height': 640,\n",
              "     'url': 'https://i.scdn.co/image/ab6761610000e5eb632866253c99e4531985aa1a',\n",
              "     'width': 640},\n",
              "    {'height': 320,\n",
              "     'url': 'https://i.scdn.co/image/ab67616100005174632866253c99e4531985aa1a',\n",
              "     'width': 320},\n",
              "    {'height': 160,\n",
              "     'url': 'https://i.scdn.co/image/ab6761610000f178632866253c99e4531985aa1a',\n",
              "     'width': 160}],\n",
              "   'name': 'WOS',\n",
              "   'popularity': 70,\n",
              "   'type': 'artist',\n",
              "   'uri': 'spotify:artist:5YCc6xS5Gpj3EkaYGdjyNK'},\n",
              "  {'external_urls': {'spotify': 'https://open.spotify.com/artist/4qhzrgR9Akd5uOM0Cvuosv'},\n",
              "   'followers': {'href': None, 'total': 182},\n",
              "   'genres': [],\n",
              "   'href': 'https://api.spotify.com/v1/artists/4qhzrgR9Akd5uOM0Cvuosv',\n",
              "   'id': '4qhzrgR9Akd5uOM0Cvuosv',\n",
              "   'images': [{'height': 640,\n",
              "     'url': 'https://i.scdn.co/image/ab67616d0000b273bd1bc1603fd8d57da48fd1d8',\n",
              "     'width': 640},\n",
              "    {'height': 300,\n",
              "     'url': 'https://i.scdn.co/image/ab67616d00001e02bd1bc1603fd8d57da48fd1d8',\n",
              "     'width': 300},\n",
              "    {'height': 64,\n",
              "     'url': 'https://i.scdn.co/image/ab67616d00004851bd1bc1603fd8d57da48fd1d8',\n",
              "     'width': 64}],\n",
              "   'name': 'Wos',\n",
              "   'popularity': 0,\n",
              "   'type': 'artist',\n",
              "   'uri': 'spotify:artist:4qhzrgR9Akd5uOM0Cvuosv'},\n",
              "  {'external_urls': {'spotify': 'https://open.spotify.com/artist/4R7xSJpwf9IsrGzUYNpyz0'},\n",
              "   'followers': {'href': None, 'total': 35},\n",
              "   'genres': [],\n",
              "   'href': 'https://api.spotify.com/v1/artists/4R7xSJpwf9IsrGzUYNpyz0',\n",
              "   'id': '4R7xSJpwf9IsrGzUYNpyz0',\n",
              "   'images': [{'height': 640,\n",
              "     'url': 'https://i.scdn.co/image/ab67616d0000b273f8575b3569870c4f0fce7ef8',\n",
              "     'width': 640},\n",
              "    {'height': 300,\n",
              "     'url': 'https://i.scdn.co/image/ab67616d00001e02f8575b3569870c4f0fce7ef8',\n",
              "     'width': 300},\n",
              "    {'height': 64,\n",
              "     'url': 'https://i.scdn.co/image/ab67616d00004851f8575b3569870c4f0fce7ef8',\n",
              "     'width': 64}],\n",
              "   'name': 'WOS Project',\n",
              "   'popularity': 33,\n",
              "   'type': 'artist',\n",
              "   'uri': 'spotify:artist:4R7xSJpwf9IsrGzUYNpyz0'},\n",
              "  {'external_urls': {'spotify': 'https://open.spotify.com/artist/2Z3hX6FBCtTfjx8chQ6Mer'},\n",
              "   'followers': {'href': None, 'total': 7426},\n",
              "   'genres': ['rap canario'],\n",
              "   'href': 'https://api.spotify.com/v1/artists/2Z3hX6FBCtTfjx8chQ6Mer',\n",
              "   'id': '2Z3hX6FBCtTfjx8chQ6Mer',\n",
              "   'images': [{'height': 640,\n",
              "     'url': 'https://i.scdn.co/image/ab6761610000e5ebc03bd487587d8930099ec4aa',\n",
              "     'width': 640},\n",
              "    {'height': 320,\n",
              "     'url': 'https://i.scdn.co/image/ab67616100005174c03bd487587d8930099ec4aa',\n",
              "     'width': 320},\n",
              "    {'height': 160,\n",
              "     'url': 'https://i.scdn.co/image/ab6761610000f178c03bd487587d8930099ec4aa',\n",
              "     'width': 160}],\n",
              "   'name': 'Wos LasPalmas',\n",
              "   'popularity': 44,\n",
              "   'type': 'artist',\n",
              "   'uri': 'spotify:artist:2Z3hX6FBCtTfjx8chQ6Mer'},\n",
              "  {'external_urls': {'spotify': 'https://open.spotify.com/artist/1AL2GKpmRrKXkYIcASuRFa'},\n",
              "   'followers': {'href': None, 'total': 11465484},\n",
              "   'genres': ['arrocha', 'forro', 'sertanejo', 'sertanejo universitario'],\n",
              "   'href': 'https://api.spotify.com/v1/artists/1AL2GKpmRrKXkYIcASuRFa',\n",
              "   'id': '1AL2GKpmRrKXkYIcASuRFa',\n",
              "   'images': [{'height': 640,\n",
              "     'url': 'https://i.scdn.co/image/ab6761610000e5eb1c688a305dd383aab75ae246',\n",
              "     'width': 640},\n",
              "    {'height': 320,\n",
              "     'url': 'https://i.scdn.co/image/ab676161000051741c688a305dd383aab75ae246',\n",
              "     'width': 320},\n",
              "    {'height': 160,\n",
              "     'url': 'https://i.scdn.co/image/ab6761610000f1781c688a305dd383aab75ae246',\n",
              "     'width': 160}],\n",
              "   'name': 'Wesley Safadão',\n",
              "   'popularity': 70,\n",
              "   'type': 'artist',\n",
              "   'uri': 'spotify:artist:1AL2GKpmRrKXkYIcASuRFa'}],\n",
              " 'limit': 5,\n",
              " 'next': 'https://api.spotify.com/v1/search?query=Wos&type=artist&market=AR&offset=5&limit=5',\n",
              " 'offset': 0,\n",
              " 'previous': None,\n",
              " 'total': 11}"
            ]
          },
          "execution_count": 20,
          "metadata": {},
          "output_type": "execute_result"
        }
      ],
      "source": [
        "# Cantidad de artistas que encontró que coinciden con nuestra query\n",
        "json_data['artists']"
      ]
    },
    {
      "cell_type": "code",
      "execution_count": 21,
      "metadata": {
        "colab": {
          "base_uri": "https://localhost:8080/"
        },
        "id": "_OpIFrILpKiw",
        "outputId": "8bda643f-896d-4828-b7d2-dce13eced545"
      },
      "outputs": [
        {
          "name": "stdout",
          "output_type": "stream",
          "text": [
            "WOS\n",
            "['argentine indie', 'trap argentino']\n"
          ]
        }
      ],
      "source": [
        "# Nombre y género musical del primer artista\n",
        "print(json_data['artists']['items'][0]['name'])\n",
        "print(json_data['artists']['items'][0]['genres'])"
      ]
    },
    {
      "cell_type": "markdown",
      "metadata": {
        "id": "zHuuoSkxqIk-"
      },
      "source": [
        "### Consejo final\n",
        "\n",
        "Para ver qué se puede extraer de Spotify vean las [referencias de las API](https://developer.spotify.com/documentation/web-api/reference/), que son bastante fácil de leer y claras en cómo se llamar a los diferentes puntos. Además una buena herramienta que tiene incorporada en la posibilidad de simular los diferentes *requests* en la página, lo cual nos da un buen feeling para armar nuestro código."
      ]
    }
  ],
  "metadata": {
    "colab": {
      "provenance": []
    },
    "kernelspec": {
      "display_name": "Python 3",
      "name": "python3"
    },
    "language_info": {
      "codemirror_mode": {
        "name": "ipython",
        "version": 3
      },
      "file_extension": ".py",
      "mimetype": "text/x-python",
      "name": "python",
      "nbconvert_exporter": "python",
      "pygments_lexer": "ipython3",
      "version": "3.11.9"
    }
  },
  "nbformat": 4,
  "nbformat_minor": 0
}
